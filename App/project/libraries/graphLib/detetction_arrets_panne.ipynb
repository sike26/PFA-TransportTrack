{
 "cells": [
  {
   "cell_type": "code",
   "execution_count": 4,
   "metadata": {
    "collapsed": true
   },
   "outputs": [],
   "source": [
    "import pandas as pd\n",
    "import datetime\n",
    "import networkx as nx\n",
    "import matplotlib.pyplot as plt"
   ]
  },
  {
   "cell_type": "code",
   "execution_count": 5,
   "metadata": {
    "collapsed": true
   },
   "outputs": [],
   "source": [
    "df_stops = pd.read_csv('stops.txt')\n",
    "df_routes = pd.read_csv('routes.txt')\n",
    "df_trips = pd.read_csv('trips.txt')\n",
    "df_stop_times = pd.read_csv('stop_times.txt')\n",
    "df_routes = pd.read_csv('routes.txt')"
   ]
  },
  {
   "cell_type": "code",
   "execution_count": 6,
   "metadata": {
    "collapsed": false
   },
   "outputs": [],
   "source": [
    "def edges_build(stop_ids_list):\n",
    "    l = len(stop_ids_list)-1\n",
    "    i = 0\n",
    "    edges_list = list()\n",
    "    while (i<l):\n",
    "        edges_list.append((stop_ids_list[i], stop_ids_list[i+1]))\n",
    "        i = i+1\n",
    "    return edges_list\n",
    "\n",
    "def route_id_to_name(route_id):\n",
    "    return df_routes[df_routes[\"route_id\"] == route_id][\"route_short_name\"].tolist()[0]\n",
    "\n",
    "def stop_to_route(stop_name):\n",
    "    stop_id = stop_name_to_id(stop_name)[\"stop_id\"].tolist()[0]\n",
    "    trip_id = df_stop_times[df_stop_times[\"stop_id\"] == int(stop_id)][\"trip_id\"].tolist()[0]\n",
    "    route_id = df_trips[df_trips[\"trip_id\"] == trip_id][\"route_id\"].tolist()[0]\n",
    "    return route_id_to_name(route_id)\n",
    "\n",
    "def stop_id_to_name(stop_id):\n",
    "    if (type(stop_id) == str):\n",
    "        return df_stops[df_stops[\"stop_id\"] == stop_id][\"stop_name\"].tolist()[0]\n",
    "    return df_stops[df_stops[\"stop_id\"] == str(stop_id)][\"stop_name\"].tolist()[0]\n",
    "\n",
    "def stop_name_to_id(stop_name):\n",
    "        return df_stops[df_stops[\"stop_name\"] == stop_name]"
   ]
  },
  {
   "cell_type": "code",
   "execution_count": 7,
   "metadata": {
    "collapsed": false
   },
   "outputs": [],
   "source": [
    "def belongs_to_list (list_, x):\n",
    "    for elt in list_:\n",
    "        if (x == elt):\n",
    "            return True\n",
    "    return False\n",
    "\n",
    "\n",
    "def belongs_to_dict (dict_, x):\n",
    "    return_dict = dict()\n",
    "    for key, list_ in dict_.items():\n",
    "         if (belongs_to_list(list_, x)):\n",
    "                #lists.append(list_)\n",
    "             return_dict[key] = list_\n",
    "    return return_dict\n",
    "\n",
    "#print(\"À l'indice {} se trouve {}.\".format(i, elt))\n",
    "\n",
    "def breakdown_affected_stops (dict_, stop_1, stop_2):\n",
    "    affected_stops = set()\n",
    "    for key, list_ in dict_.items():\n",
    "        if (belongs_to_list(list_, stop_1) & belongs_to_list(list_, stop_2)):\n",
    "            index_1 = list_.index(stop_1)\n",
    "            index_2 = list_.index(stop_2)\n",
    "            for index, elt in enumerate(list_):\n",
    "                if ((index < index_2) & (index > index_1) | (index < index_1) & (index > index_2)):\n",
    "                    affected_stops.add(elt)\n",
    "    return affected_stops                   \n",
    "     \n",
    "            "
   ]
  },
  {
   "cell_type": "code",
   "execution_count": 8,
   "metadata": {
    "collapsed": true
   },
   "outputs": [],
   "source": [
    "# suppression des repetitions dans trips et stop_times\n",
    "df_trips = df_trips.drop_duplicates([\"route_id\", \"direction_id\", \"trip_headsign\"] )\n",
    "df_stop_times = df_stop_times[df_stop_times[\"trip_id\"].isin(df_trips[\"trip_id\"])]"
   ]
  },
  {
   "cell_type": "code",
   "execution_count": 9,
   "metadata": {
    "collapsed": false
   },
   "outputs": [],
   "source": [
    "paths_dict = dict()\n",
    "keys_info = dict ()\n",
    "for elt in df_trips[\"trip_id\"]:\n",
    "    route = df_trips[df_trips[\"trip_id\"] == elt][\"route_id\"].tolist()[0]\n",
    "    direction = df_trips[df_trips[\"trip_id\"] == elt][\"direction_id\"].tolist()[0]\n",
    "    trip_headsign = df_trips[df_trips[\"trip_id\"] == elt][\"trip_headsign\"].tolist()[0]\n",
    "    info = [route, direction, trip_headsign]\n",
    "    df = df_stop_times[df_stop_times[\"trip_id\"] == elt]\n",
    "    paths_dict[elt] = df[\"stop_id\"].tolist()  \n",
    "    keys_info[elt] = info\n"
   ]
  },
  {
   "cell_type": "code",
   "execution_count": 10,
   "metadata": {
    "collapsed": false
   },
   "outputs": [
    {
     "data": {
      "text/plain": [
       "7440"
      ]
     },
     "execution_count": 10,
     "metadata": {},
     "output_type": "execute_result"
    }
   ],
   "source": [
    "belongs_to_dict(paths_dict, 7438)[\"10611428-2016-TFEV_C-Dimanche-06\"][0]\n",
    "#stop_id_to_name (belongs_to_dict(paths_dict, 7438)[\"10611428-2016-TFEV_C-Dimanche-06\"][0])"
   ]
  },
  {
   "cell_type": "code",
   "execution_count": 11,
   "metadata": {
    "collapsed": false
   },
   "outputs": [
    {
     "data": {
      "text/html": [
       "<div>\n",
       "<table border=\"1\" class=\"dataframe\">\n",
       "  <thead>\n",
       "    <tr style=\"text-align: right;\">\n",
       "      <th></th>\n",
       "      <th>stop_id</th>\n",
       "      <th>stop_name</th>\n",
       "      <th>stop_lat</th>\n",
       "      <th>stop_lon</th>\n",
       "      <th>stop_desc</th>\n",
       "      <th>zone_id</th>\n",
       "      <th>stop_url</th>\n",
       "      <th>stop_code</th>\n",
       "      <th>location_type</th>\n",
       "      <th>parent_station</th>\n",
       "    </tr>\n",
       "  </thead>\n",
       "  <tbody>\n",
       "    <tr>\n",
       "      <th>61</th>\n",
       "      <td>3749</td>\n",
       "      <td>Bergonié</td>\n",
       "      <td>44.825031</td>\n",
       "      <td>-0.578216</td>\n",
       "      <td>NaN</td>\n",
       "      <td>33063</td>\n",
       "      <td>NaN</td>\n",
       "      <td>BERGA</td>\n",
       "      <td>0</td>\n",
       "      <td>BERGO</td>\n",
       "    </tr>\n",
       "    <tr>\n",
       "      <th>62</th>\n",
       "      <td>3750</td>\n",
       "      <td>Bergonié</td>\n",
       "      <td>44.825020</td>\n",
       "      <td>-0.578278</td>\n",
       "      <td>NaN</td>\n",
       "      <td>33063</td>\n",
       "      <td>NaN</td>\n",
       "      <td>BERGR</td>\n",
       "      <td>0</td>\n",
       "      <td>BERGO</td>\n",
       "    </tr>\n",
       "    <tr>\n",
       "      <th>248</th>\n",
       "      <td>BERGO</td>\n",
       "      <td>Bergonié</td>\n",
       "      <td>44.825025</td>\n",
       "      <td>-0.578247</td>\n",
       "      <td>NaN</td>\n",
       "      <td>33063</td>\n",
       "      <td>NaN</td>\n",
       "      <td>BERGO</td>\n",
       "      <td>1</td>\n",
       "      <td>NaN</td>\n",
       "    </tr>\n",
       "  </tbody>\n",
       "</table>\n",
       "</div>"
      ],
      "text/plain": [
       "    stop_id stop_name   stop_lat  stop_lon  stop_desc  zone_id  stop_url  \\\n",
       "61     3749  Bergonié  44.825031 -0.578216        NaN    33063       NaN   \n",
       "62     3750  Bergonié  44.825020 -0.578278        NaN    33063       NaN   \n",
       "248   BERGO  Bergonié  44.825025 -0.578247        NaN    33063       NaN   \n",
       "\n",
       "    stop_code  location_type parent_station  \n",
       "61      BERGA              0          BERGO  \n",
       "62      BERGR              0          BERGO  \n",
       "248     BERGO              1            NaN  "
      ]
     },
     "execution_count": 11,
     "metadata": {},
     "output_type": "execute_result"
    }
   ],
   "source": [
    "stop_name_to_id(\"Bergonié\")"
   ]
  },
  {
   "cell_type": "code",
   "execution_count": 9,
   "metadata": {
    "collapsed": false
   },
   "outputs": [
    {
     "data": {
      "text/html": [
       "<div>\n",
       "<table border=\"1\" class=\"dataframe\">\n",
       "  <thead>\n",
       "    <tr style=\"text-align: right;\">\n",
       "      <th></th>\n",
       "      <th>stop_id</th>\n",
       "      <th>stop_name</th>\n",
       "      <th>stop_lat</th>\n",
       "      <th>stop_lon</th>\n",
       "      <th>stop_desc</th>\n",
       "      <th>zone_id</th>\n",
       "      <th>stop_url</th>\n",
       "      <th>stop_code</th>\n",
       "      <th>location_type</th>\n",
       "      <th>parent_station</th>\n",
       "    </tr>\n",
       "  </thead>\n",
       "  <tbody>\n",
       "    <tr>\n",
       "      <th>55</th>\n",
       "      <td>3743</td>\n",
       "      <td>Forum</td>\n",
       "      <td>44.811948</td>\n",
       "      <td>-0.590942</td>\n",
       "      <td>NaN</td>\n",
       "      <td>33522</td>\n",
       "      <td>NaN</td>\n",
       "      <td>FORUA</td>\n",
       "      <td>0</td>\n",
       "      <td>FORUM</td>\n",
       "    </tr>\n",
       "    <tr>\n",
       "      <th>56</th>\n",
       "      <td>3744</td>\n",
       "      <td>Forum</td>\n",
       "      <td>44.811965</td>\n",
       "      <td>-0.590981</td>\n",
       "      <td>NaN</td>\n",
       "      <td>33522</td>\n",
       "      <td>NaN</td>\n",
       "      <td>FORUR</td>\n",
       "      <td>0</td>\n",
       "      <td>FORUM</td>\n",
       "    </tr>\n",
       "    <tr>\n",
       "      <th>245</th>\n",
       "      <td>FORUM</td>\n",
       "      <td>Forum</td>\n",
       "      <td>44.811956</td>\n",
       "      <td>-0.590962</td>\n",
       "      <td>NaN</td>\n",
       "      <td>33522</td>\n",
       "      <td>NaN</td>\n",
       "      <td>FORUM</td>\n",
       "      <td>1</td>\n",
       "      <td>NaN</td>\n",
       "    </tr>\n",
       "  </tbody>\n",
       "</table>\n",
       "</div>"
      ],
      "text/plain": [
       "    stop_id stop_name   stop_lat  stop_lon  stop_desc  zone_id  stop_url  \\\n",
       "55     3743     Forum  44.811948 -0.590942        NaN    33522       NaN   \n",
       "56     3744     Forum  44.811965 -0.590981        NaN    33522       NaN   \n",
       "245   FORUM     Forum  44.811956 -0.590962        NaN    33522       NaN   \n",
       "\n",
       "    stop_code  location_type parent_station  \n",
       "55      FORUA              0          FORUM  \n",
       "56      FORUR              0          FORUM  \n",
       "245     FORUM              1            NaN  "
      ]
     },
     "execution_count": 9,
     "metadata": {},
     "output_type": "execute_result"
    }
   ],
   "source": [
    "stop_name_to_id(\"Forum\")"
   ]
  },
  {
   "cell_type": "code",
   "execution_count": 10,
   "metadata": {
    "collapsed": false
   },
   "outputs": [
    {
     "data": {
      "text/plain": [
       "set()"
      ]
     },
     "execution_count": 10,
     "metadata": {},
     "output_type": "execute_result"
    }
   ],
   "source": [
    "breakdown_affected_stops(paths_dict, 3749, 3744)\n",
    "# ensemble vide car il faut préciser l'id de la bonne direction"
   ]
  },
  {
   "cell_type": "code",
   "execution_count": 11,
   "metadata": {
    "collapsed": false
   },
   "outputs": [
    {
     "data": {
      "text/plain": [
       "{3745, 3747}"
      ]
     },
     "execution_count": 11,
     "metadata": {},
     "output_type": "execute_result"
    }
   ],
   "source": [
    "breakdown_affected_stops(paths_dict, 3749, 3743)\n",
    "# renvoie les ids de roustaing et barriere st-genes"
   ]
  },
  {
   "cell_type": "code",
   "execution_count": 13,
   "metadata": {
    "collapsed": false
   },
   "outputs": [
    {
     "data": {
      "text/plain": [
       "'Barri\\xc3\\xa8re Saint-Gen\\xc3\\xa8s'"
      ]
     },
     "execution_count": 13,
     "metadata": {},
     "output_type": "execute_result"
    }
   ],
   "source": [
    "stop_id_to_name(\"3747\")"
   ]
  },
  {
   "cell_type": "code",
   "execution_count": 17,
   "metadata": {
    "collapsed": false
   },
   "outputs": [
    {
     "data": {
      "text/plain": [
       "'Roustaing'"
      ]
     },
     "execution_count": 17,
     "metadata": {},
     "output_type": "execute_result"
    }
   ],
   "source": [
    "stop_id_to_name(\"3745\")"
   ]
  },
  {
   "cell_type": "code",
   "execution_count": null,
   "metadata": {
    "collapsed": true
   },
   "outputs": [],
   "source": []
  }
 ],
 "metadata": {
  "kernelspec": {
   "display_name": "Python 2",
   "language": "python",
   "name": "python2"
  },
  "language_info": {
   "codemirror_mode": {
    "name": "ipython",
    "version": 2
   },
   "file_extension": ".py",
   "mimetype": "text/x-python",
   "name": "python",
   "nbconvert_exporter": "python",
   "pygments_lexer": "ipython2",
   "version": "2.7.11"
  }
 },
 "nbformat": 4,
 "nbformat_minor": 0
}
