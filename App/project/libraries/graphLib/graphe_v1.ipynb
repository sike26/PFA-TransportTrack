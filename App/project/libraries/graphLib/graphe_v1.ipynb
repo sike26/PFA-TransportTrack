{
 "cells": [
  {
   "cell_type": "code",
   "execution_count": 17,
   "metadata": {
    "collapsed": true
   },
   "outputs": [],
   "source": [
    "import pandas as pd\n",
    "import datetime\n",
    "import networkx as nx\n",
    "import matplotlib.pyplot as plt\n",
    "import numpy as np\n",
    "import math as m"
   ]
  },
  {
   "cell_type": "code",
   "execution_count": 18,
   "metadata": {
    "collapsed": false
   },
   "outputs": [],
   "source": [
    "# lecture des donnees gtfs\n",
    "\n",
    "df_stops_bus = pd.read_csv('gtfs_bus/stops.txt')\n",
    "df_routes_bus = pd.read_csv('gtfs_bus/routes.txt')\n",
    "df_trips_bus = pd.read_csv('gtfs_bus/trips.txt')\n",
    "df_stop_times_bus = pd.read_csv('gtfs_bus/stop_times.txt')\n",
    "\n",
    "df_stops_tram = pd.read_csv('gtfs_tram/stops.txt')\n",
    "df_routes_tram = pd.read_csv('gtfs_tram/routes.txt')\n",
    "df_trips_tram = pd.read_csv('gtfs_tram/trips.txt')\n",
    "df_stop_times_tram = pd.read_csv('gtfs_tram/stop_times.txt')"
   ]
  },
  {
   "cell_type": "code",
   "execution_count": 50,
   "metadata": {
    "collapsed": false
   },
   "outputs": [],
   "source": [
    "def edges_build(stop_ids_list):\n",
    "    for x in stop_ids_list:\n",
    "        x = str(x)\n",
    "    l = len(stop_ids_list)-1\n",
    "    i = 0\n",
    "    edges_list = list()\n",
    "    while (i<l):\n",
    "        edges_list.append((str(stop_ids_list[i]), str(stop_ids_list[i+1])))\n",
    "        i = i+1\n",
    "    return edges_list\n",
    "def route_id_to_name(route_id):\n",
    "    return df_routes[df_routes[\"route_id\"] == route_id][\"route_short_name\"].tolist()[0]\n",
    "def stop_to_route(stop_name):\n",
    "    stop_id = stop_name_to_id(stop_name)[\"stop_id\"].tolist()[0]\n",
    "    trip_id = df_stop_times[df_stop_times[\"stop_id\"] == int(stop_id)][\"trip_id\"].tolist()[0]\n",
    "    route_id = df_trips[df_trips[\"trip_id\"] == trip_id][\"route_id\"].tolist()[0]\n",
    "    return route_id_to_name(route_id)\n",
    "\n",
    "def stop_id_to_name_tram(stop_id):\n",
    "    return df_stops_tram[df_stops_tram[\"stop_id\"] == stop_id][\"stop_name\"].tolist()[0]\n",
    "def stop_name_to_id_tram(stop_name):\n",
    "    return df_stops_tram[df_stops_tram[\"stop_name\"] == stop_name][\"stop_id\"].tolist()\n",
    "\n",
    "def stop_id_to_name_bus(stop_id):\n",
    "    return df_stops_bus[df_stops_bus[\"stop_id\"] == stop_id][\"stop_name\"].tolist()[0]\n",
    "def stop_name_to_id_bus(stop_name):\n",
    "    return df_stops_bus[df_stops_bus[\"stop_name\"] == stop_name][\"stop_id\"].tolist()\n",
    "\n",
    "def stop_ids_list_to_name_bus(ids_list):\n",
    "    names_list = list()\n",
    "    for elt in ids_list:\n",
    "        names_list.append(stop_id_to_name_bus(str(elt))[\"stop_name\"].tolist()[0])\n",
    "    return names_list\n",
    "\n",
    "def same_stop(stop_1, stop_2):\n",
    "    return 0\n",
    "\n",
    "def distance (lat_1, lon_1, lat_2, lon_2):\n",
    "    delta = lon_2 - lon_1\n",
    "    d = np.arccos(np.sin(lat_1)*np.sin(lat_2)+np.cos(lat_1)*np.cos(lat_2)*np.cos(delta))\n",
    "    return d\n",
    "\n",
    "\n",
    "def remove_stops(g,stops_list):\n",
    "    new_graph=g.copy()\n",
    "    new_graph.remove_nodes_from(stops_list)\n",
    "    return new_graph\n",
    "\n",
    "# renvoie les ids des arrets de meme nom    \n",
    "    \n",
    "         "
   ]
  },
  {
   "cell_type": "code",
   "execution_count": 20,
   "metadata": {
    "collapsed": false
   },
   "outputs": [
    {
     "name": "stdout",
     "output_type": "stream",
     "text": [
      "44.83733\n",
      "-0.577188\n",
      "44.841056\n",
      "-0.578464\n",
      "24335.470034\n"
     ]
    }
   ],
   "source": [
    "#x = 6378137 * distance(stops[\"3718\"].lat, stops[\"3718\"].lon, stops[\"3759\"].lat, stops[\"3759\"].lon)\n",
    "R = 6373000\n",
    "lat_1 = stops[\"3718\"].lat\n",
    "lon_1 = stops[\"3718\"].lon\n",
    "lat_2 = stops[\"3759\"].lat\n",
    "lon_2 = stops[\"3759\"].lon\n",
    "dlon = lon_2-lon_1\n",
    "dlat = lat_2-lat_1\n",
    "a =np.sin(dlat/2)**2 + np.cos(lat_1)*np.cos(lat_2)*np.sin(dlon/2)**2\n",
    "c = 2 * m.atan2(m.sqrt(a), m.sqrt(1-a))\n",
    "distance = R * c\n",
    "print lat_1\n",
    "print lon_1\n",
    "print lat_2\n",
    "print lon_2\n",
    "print distance"
   ]
  },
  {
   "cell_type": "code",
   "execution_count": 21,
   "metadata": {
    "collapsed": true
   },
   "outputs": [],
   "source": [
    "# construction dictionnaire d'arrets\n",
    "\n",
    "\n",
    "class Stop:\n",
    "    def __init__(self):\n",
    "        self.iden = \"UNDEFINED\"\n",
    "        self.name = \"UNDEFINED\"\n",
    "        self.lon = 1000.0\n",
    "        self.lat = 1000.0 \n",
    "\n",
    "ids = pd.concat([df_stops_bus[\"stop_id\"], df_stops_tram[\"stop_id\"]]).tolist()        \n",
    "stops = dict()\n",
    "\n",
    "for elt in ids:\n",
    "    stops[elt]=Stop()\n",
    "    df_temp_bus = df_stops_bus[df_stops_bus[\"stop_id\"] == elt]\n",
    "    df_temp_tram = df_stops_tram[df_stops_tram[\"stop_id\"] == elt]\n",
    "    if(len(df_temp_bus) > 0):\n",
    "        stops[elt].iden = df_temp_bus[\"stop_id\"].tolist()[0]\n",
    "        stops[elt].lat = df_temp_bus[\"stop_lat\"].tolist()[0]\n",
    "        stops[elt].lon = df_temp_bus[\"stop_lon\"].tolist()[0] \n",
    "        stops[elt].name = df_temp_bus[\"stop_name\"].tolist()[0]\n",
    "    if(len(df_temp_tram) > 0):\n",
    "        stops[elt].iden = df_temp_tram[\"stop_id\"].tolist()[0]\n",
    "        stops[elt].lat = df_temp_tram[\"stop_lat\"].tolist()[0]\n",
    "        stops[elt].lon = df_temp_tram[\"stop_lon\"].tolist()[0] \n",
    "        stops[elt].name = df_temp_tram[\"stop_name\"].tolist()[0]\n",
    "        "
   ]
  },
  {
   "cell_type": "code",
   "execution_count": 22,
   "metadata": {
    "collapsed": true
   },
   "outputs": [],
   "source": [
    "# suppression des repetitions dans trips et stop_times\n",
    "df_trips_bus = df_trips_bus.drop_duplicates([\"route_id\", \"direction_id\", \"trip_headsign\"] )\n",
    "df_stop_times_bus = df_stop_times_bus[df_stop_times_bus[\"trip_id\"].isin(df_trips_bus[\"trip_id\"])]\n",
    "df_trips_tram = df_trips_tram.drop_duplicates([\"route_id\", \"direction_id\", \"trip_headsign\"] )\n",
    "df_stop_times_tram = df_stop_times_tram[df_stop_times_tram[\"trip_id\"].isin(df_trips_tram[\"trip_id\"])]"
   ]
  },
  {
   "cell_type": "code",
   "execution_count": 25,
   "metadata": {
    "collapsed": false
   },
   "outputs": [],
   "source": [
    "#Construction du dictionnaire des trips\n",
    "\n",
    "class Trip:\n",
    "    def __init__(self):\n",
    "        self.iden = \"UNDEFINED\"\n",
    "        self.route_id = -1\n",
    "        self.direction_id = -1\n",
    "        self.trip_headsign = \"UNDEFINED\"\n",
    "        self.route_name = \"UNDEFINED\"\n",
    "        self.path = list()\n",
    "        \n",
    "trips = dict()\n",
    "for elt in df_trips_bus[\"trip_id\"]:\n",
    "    trips[elt] = Trip()\n",
    "    df_bus = df_stop_times_bus[df_stop_times_bus[\"trip_id\"] == elt]\n",
    "    trips[elt].path = df_bus[\"stop_id\"].tolist()\n",
    "    for x in trips[elt].path:\n",
    "        x = str(x)\n",
    "for elt in df_trips_tram[\"trip_id\"]:\n",
    "    trips[elt] = Trip()\n",
    "    df_tram = df_stop_times_tram[df_stop_times_tram[\"trip_id\"] == elt]\n",
    "    trips[elt].path = df_tram[\"stop_id\"].tolist()  \n",
    "    for x in trips[elt].path:\n",
    "        x = str(x)\n",
    "g = nx.Graph()\n",
    "g.clear()\n",
    "for elt in trips:\n",
    "    g.add_nodes_from(trips[elt].path)\n",
    "    g.add_edges_from(edges_build(trips[elt].path), trip=elt)\n",
    "\n",
    "for elt in stops:\n",
    "    l = stop_name_to_id_tram(stops[elt].name)\n",
    "    for elt_ in l:\n",
    "        g.add_edge(elt,elt_, trip=\"a_pied\")\n",
    "    for elt_ in stops:\n",
    "        if(same_stop(elt,elt_)):\n",
    "            g.add_edge(elt,elt_,trip=\"a_pied\")"
   ]
  },
  {
   "cell_type": "code",
   "execution_count": 29,
   "metadata": {
    "collapsed": false
   },
   "outputs": [
    {
     "name": "stdout",
     "output_type": "stream",
     "text": [
      "['3718', '3719', '3757', '3758', 'HDVA', 'HDVB']\n",
      "['3720', '3721', 'PJUST']\n",
      "['3759', '3760', 'GAMBT']\n",
      "['3759', '3758', '3762', '17', '2444', 'GAMBT2', 'GAMBT1', '3760', '6447', '6701', 'GAMBT', '3278']\n",
      "6932\n"
     ]
    },
    {
     "data": {
      "text/plain": [
       "5207"
      ]
     },
     "execution_count": 29,
     "metadata": {},
     "output_type": "execute_result"
    }
   ],
   "source": [
    "print stop_name_to_id_tram(\"Hôtel de Ville\")\n",
    "print stop_name_to_id_tram(\"Palais de Justice\")\n",
    "print stop_name_to_id_tram(\"Gambetta\")\n",
    "print g.neighbors(\"3760\")\n",
    "\n",
    "#print g.neighbors(\"3720\")\n",
    "#print g.neighbors(\"3718\")\n",
    "#print stop_id_to_name_tram(\"3720\")\n",
    "nx.shortest_path(g,source=\"3720\",target=\"3759\")\n",
    "\n"
   ]
  },
  {
   "cell_type": "code",
   "execution_count": 58,
   "metadata": {
    "collapsed": false
   },
   "outputs": [
    {
     "name": "stdout",
     "output_type": "stream",
     "text": [
      "Palais de Justice\n"
     ]
    }
   ],
   "source": [
    "new_g=remove_stops(g,[\"3718\",\"3719\",\"3757\",\"3758\"])\n",
    "nx.shortest_path(new_g,source=\"3720\",target=\"3759\")\n",
    "print stop_id_to_name_bus(\"3858\")\n"
   ]
  },
  {
   "cell_type": "code",
   "execution_count": 129,
   "metadata": {
    "collapsed": false
   },
   "outputs": [
    {
     "data": {
      "text/html": [
       "<div>\n",
       "<table border=\"1\" class=\"dataframe\">\n",
       "  <thead>\n",
       "    <tr style=\"text-align: right;\">\n",
       "      <th></th>\n",
       "      <th>route_id</th>\n",
       "      <th>service_id</th>\n",
       "      <th>trip_id</th>\n",
       "      <th>trip_headsign</th>\n",
       "      <th>block_id</th>\n",
       "      <th>direction_id</th>\n",
       "    </tr>\n",
       "  </thead>\n",
       "  <tbody>\n",
       "    <tr>\n",
       "      <th>14568</th>\n",
       "      <td>20</td>\n",
       "      <td>2016-M20_A-Semaine-02</td>\n",
       "      <td>10008630-2016-M20_A-Semaine-02</td>\n",
       "      <td>BORDEAUX Victoire</td>\n",
       "      <td>1830208</td>\n",
       "      <td>1</td>\n",
       "    </tr>\n",
       "  </tbody>\n",
       "</table>\n",
       "</div>"
      ],
      "text/plain": [
       "       route_id             service_id                         trip_id  \\\n",
       "14568        20  2016-M20_A-Semaine-02  10008630-2016-M20_A-Semaine-02   \n",
       "\n",
       "           trip_headsign  block_id  direction_id  \n",
       "14568  BORDEAUX Victoire   1830208             1  "
      ]
     },
     "execution_count": 129,
     "metadata": {},
     "output_type": "execute_result"
    }
   ],
   "source": [
    "df_trips_bus[df_trips_bus[\"trip_id\"] == g.edge[4155][3802]['trip']]"
   ]
  },
  {
   "cell_type": "code",
   "execution_count": 49,
   "metadata": {
    "collapsed": false
   },
   "outputs": [
    {
     "data": {
      "text/plain": [
       "[(1, 2), (1, 4), (2, 3), (3, 4)]"
      ]
     },
     "execution_count": 49,
     "metadata": {},
     "output_type": "execute_result"
    }
   ],
   "source": [
    "test=nx.Graph()\n",
    "test.clear()\n",
    "test.add_node(1)\n",
    "test.add_node(2)\n",
    "test.add_node(3)\n",
    "test.add_node(4)\n",
    "test.add_edge(1,2)\n",
    "test.add_edge(2,3)\n",
    "test.add_edge(3,4)\n",
    "test.add_edge(1,4)\n",
    "#test.remove_nodes_from([2,3])\n",
    "test_bis = test.copy()\n",
    "test_bis.edges()"
   ]
  },
  {
   "cell_type": "code",
   "execution_count": null,
   "metadata": {
    "collapsed": true
   },
   "outputs": [],
   "source": []
  }
 ],
 "metadata": {
  "kernelspec": {
   "display_name": "Python 2",
   "language": "python",
   "name": "python2"
  },
  "language_info": {
   "codemirror_mode": {
    "name": "ipython",
    "version": 2
   },
   "file_extension": ".py",
   "mimetype": "text/x-python",
   "name": "python",
   "nbconvert_exporter": "python",
   "pygments_lexer": "ipython2",
   "version": "2.7.11"
  }
 },
 "nbformat": 4,
 "nbformat_minor": 0
}
