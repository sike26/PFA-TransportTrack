{
 "cells": [
  {
   "cell_type": "code",
   "execution_count": 2,
   "metadata": {
    "collapsed": true
   },
   "outputs": [],
   "source": [
    "# importer les bibliotheques necessaires\n",
    "import pandas as pd\n",
    "import datetime\n",
    "import networkx as nx\n",
    "import matplotlib.pyplot as plt"
   ]
  },
  {
   "cell_type": "code",
   "execution_count": 91,
   "metadata": {
    "collapsed": true
   },
   "outputs": [],
   "source": [
    "def edges_build(stop_ids_list):\n",
    "    l = len(stop_ids_list)-1\n",
    "    i = 0\n",
    "    edges_list = list()\n",
    "    while (i<l):\n",
    "        edges_list.append((stop_ids_list[i], stop_ids_list[i+1]))\n",
    "        i = i+1\n",
    "    return edges_list\n",
    "def route_id_to_name(route_id):\n",
    "    return df_routes[df_routes[\"route_id\"] == route_id][\"route_short_name\"].tolist()[0]\n",
    "def stop_to_route(stop_name):\n",
    "    stop_id = stop_name_to_id(stop_name)[\"stop_id\"].tolist()[0]\n",
    "    trip_id = df_stop_times[df_stop_times[\"stop_id\"] == int(stop_id)][\"trip_id\"].tolist()[0]\n",
    "    route_id = df_trips[df_trips[\"trip_id\"] == trip_id][\"route_id\"].tolist()[0]\n",
    "    return route_id_to_name(route_id)\n",
    "def stop_id_to_name(stop_id):\n",
    "    return df_stops[df_stops[\"stop_id\"] == stop_id]\n",
    "def stop_name_to_id(stop_name):\n",
    "    return df_stops[df_stops[\"stop_name\"] == stop_name]"
   ]
  },
  {
   "cell_type": "code",
   "execution_count": 63,
   "metadata": {
    "collapsed": false
   },
   "outputs": [],
   "source": [
    "# lecture des donnees csv\n",
    "df_stops = pd.read_csv('stops.txt')\n",
    "df_routes = pd.read_csv('routes.txt')\n",
    "df_trips = pd.read_csv('trips.txt')\n",
    "df_stop_times = pd.read_csv('stop_times.txt')\n",
    "df_routes = pd.read_csv('routes.txt')"
   ]
  },
  {
   "cell_type": "code",
   "execution_count": 64,
   "metadata": {
    "collapsed": false
   },
   "outputs": [],
   "source": [
    "# suppression des repetitions dans trips et stop_times\n",
    "df_trips = df_trips.drop_duplicates([\"route_id\", \"direction_id\", \"trip_headsign\"] )\n",
    "df_stop_times = df_stop_times[df_stop_times[\"trip_id\"].isin(df_trips[\"trip_id\"])]"
   ]
  },
  {
   "cell_type": "code",
   "execution_count": 98,
   "metadata": {
    "collapsed": false
   },
   "outputs": [],
   "source": [
    "# creation du graphe\n",
    "paths_dict = dict()\n",
    "for elt in df_trips[\"trip_id\"]:\n",
    "    df = df_stop_times[df_stop_times[\"trip_id\"] == elt]\n",
    "    paths_dict[elt] = df[\"stop_id\"]  \n",
    "    #list.append()\n",
    "g = nx.DiGraph()\n",
    "for elt in paths_dict:\n",
    "    g.add_nodes_from(paths_dict[elt].tolist())\n",
    "    g.add_edges_from(edges_build(paths_dict[elt].tolist()))\n"
   ]
  },
  {
   "cell_type": "code",
   "execution_count": 117,
   "metadata": {
    "collapsed": false
   },
   "outputs": [
    {
     "name": "stdout",
     "output_type": "stream",
     "text": [
      "B\n"
     ]
    }
   ],
   "source": [
    "#print stop_to_route(\"Forum\")"
   ]
  },
  {
   "cell_type": "code",
   "execution_count": 99,
   "metadata": {
    "collapsed": true
   },
   "outputs": [],
   "source": [
    "# g.number_of_nodes()    "
   ]
  },
  {
   "cell_type": "code",
   "execution_count": null,
   "metadata": {
    "collapsed": true
   },
   "outputs": [],
   "source": []
  }
 ],
 "metadata": {
  "kernelspec": {
   "display_name": "Python 2",
   "language": "python",
   "name": "python2"
  },
  "language_info": {
   "codemirror_mode": {
    "name": "ipython",
    "version": 2
   },
   "file_extension": ".py",
   "mimetype": "text/x-python",
   "name": "python",
   "nbconvert_exporter": "python",
   "pygments_lexer": "ipython2",
   "version": "2.7.11"
  }
 },
 "nbformat": 4,
 "nbformat_minor": 0
}
