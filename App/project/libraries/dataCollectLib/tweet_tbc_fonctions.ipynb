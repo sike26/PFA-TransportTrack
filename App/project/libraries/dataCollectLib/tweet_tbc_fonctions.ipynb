{
 "cells": [
  {
   "cell_type": "code",
   "execution_count": 6,
   "metadata": {
    "collapsed": true
   },
   "outputs": [],
   "source": [
    "#Ce fichier montre l'utilisation des fonctions de tweets_tbc"
   ]
  },
  {
   "cell_type": "code",
   "execution_count": 1,
   "metadata": {
    "collapsed": false
   },
   "outputs": [],
   "source": [
    "from tweets_tbc import *"
   ]
  },
  {
   "cell_type": "code",
   "execution_count": 2,
   "metadata": {
    "collapsed": false
   },
   "outputs": [],
   "source": [
    "TweetC = TweetCollect()"
   ]
  },
  {
   "cell_type": "code",
   "execution_count": 11,
   "metadata": {
    "collapsed": false
   },
   "outputs": [],
   "source": [
    "last = TweetC.get_last('tbc_trama')"
   ]
  },
  {
   "cell_type": "code",
   "execution_count": 12,
   "metadata": {
    "collapsed": false
   },
   "outputs": [
    {
     "data": {
      "text/plain": [
       "{'content': u'Retour \\xe0 une circulation normale sur votre ligne #tbc #InfoTrafic',\n",
       " 'date': datetime.datetime(2016, 2, 6, 11, 11, 50),\n",
       " 'id': 695927876508590081,\n",
       " 'source': u'TBC TramA',\n",
       " 'user': 'tbc_trama'}"
      ]
     },
     "execution_count": 12,
     "metadata": {},
     "output_type": "execute_result"
    }
   ],
   "source": [
    "last.to_dict()"
   ]
  },
  {
   "cell_type": "code",
   "execution_count": 4,
   "metadata": {
    "collapsed": false,
    "scrolled": true
   },
   "outputs": [],
   "source": [
    "#Attention, c'est long :)\n",
    "data_dict = TweetC.get_all_users_timeline()"
   ]
  },
  {
   "cell_type": "code",
   "execution_count": 5,
   "metadata": {
    "collapsed": false
   },
   "outputs": [],
   "source": [
    "all_data = TweetC.read_dict_df()"
   ]
  },
  {
   "cell_type": "code",
   "execution_count": 15,
   "metadata": {
    "collapsed": false
   },
   "outputs": [
    {
     "data": {
      "text/html": [
       "<div>\n",
       "<table border=\"1\" class=\"dataframe\">\n",
       "  <thead>\n",
       "    <tr style=\"text-align: right;\">\n",
       "      <th></th>\n",
       "      <th>content</th>\n",
       "      <th>date</th>\n",
       "      <th>id</th>\n",
       "      <th>source</th>\n",
       "      <th>user</th>\n",
       "    </tr>\n",
       "  </thead>\n",
       "  <tbody>\n",
       "    <tr>\n",
       "      <th>0</th>\n",
       "      <td>Retour à une circulation normale sur votre lig...</td>\n",
       "      <td>2016-02-06 11:11:50</td>\n",
       "      <td>695927876508590081</td>\n",
       "      <td>TBC TramA</td>\n",
       "      <td>tbc_trama</td>\n",
       "    </tr>\n",
       "    <tr>\n",
       "      <th>1</th>\n",
       "      <td>Suite à un incident technique sur une rame, ra...</td>\n",
       "      <td>2016-02-06 10:45:59</td>\n",
       "      <td>695921371226963968</td>\n",
       "      <td>TBC TramA</td>\n",
       "      <td>tbc_trama</td>\n",
       "    </tr>\n",
       "    <tr>\n",
       "      <th>2</th>\n",
       "      <td>Retour à une circulation normale sur votre lig...</td>\n",
       "      <td>2016-02-05 17:42:02</td>\n",
       "      <td>695663688796266497</td>\n",
       "      <td>TBC TramA</td>\n",
       "      <td>tbc_trama</td>\n",
       "    </tr>\n",
       "    <tr>\n",
       "      <th>3</th>\n",
       "      <td>Retard sur votre ligne suite au passage du cor...</td>\n",
       "      <td>2016-02-05 16:57:34</td>\n",
       "      <td>695652497877286912</td>\n",
       "      <td>TBC TramA</td>\n",
       "      <td>tbc_trama</td>\n",
       "    </tr>\n",
       "    <tr>\n",
       "      <th>4</th>\n",
       "      <td>Reprise de l'itinéraire normal sur toutes les ...</td>\n",
       "      <td>2016-02-05 16:46:55</td>\n",
       "      <td>695649817775616000</td>\n",
       "      <td>TBC TramA</td>\n",
       "      <td>tbc_trama</td>\n",
       "    </tr>\n",
       "  </tbody>\n",
       "</table>\n",
       "</div>"
      ],
      "text/plain": [
       "                                             content                date  \\\n",
       "0  Retour à une circulation normale sur votre lig... 2016-02-06 11:11:50   \n",
       "1  Suite à un incident technique sur une rame, ra... 2016-02-06 10:45:59   \n",
       "2  Retour à une circulation normale sur votre lig... 2016-02-05 17:42:02   \n",
       "3  Retard sur votre ligne suite au passage du cor... 2016-02-05 16:57:34   \n",
       "4  Reprise de l'itinéraire normal sur toutes les ... 2016-02-05 16:46:55   \n",
       "\n",
       "                   id     source       user  \n",
       "0  695927876508590081  TBC TramA  tbc_trama  \n",
       "1  695921371226963968  TBC TramA  tbc_trama  \n",
       "2  695663688796266497  TBC TramA  tbc_trama  \n",
       "3  695652497877286912  TBC TramA  tbc_trama  \n",
       "4  695649817775616000  TBC TramA  tbc_trama  "
      ]
     },
     "execution_count": 15,
     "metadata": {},
     "output_type": "execute_result"
    }
   ],
   "source": [
    "all_data['tbc_trama'].head()"
   ]
  },
  {
   "cell_type": "code",
   "execution_count": 7,
   "metadata": {
    "collapsed": false
   },
   "outputs": [
    {
     "data": {
      "text/html": [
       "<div>\n",
       "<table border=\"1\" class=\"dataframe\">\n",
       "  <thead>\n",
       "    <tr style=\"text-align: right;\">\n",
       "      <th></th>\n",
       "      <th>content</th>\n",
       "      <th>date</th>\n",
       "      <th>id</th>\n",
       "      <th>source</th>\n",
       "      <th>user</th>\n",
       "    </tr>\n",
       "  </thead>\n",
       "  <tbody>\n",
       "    <tr>\n",
       "      <th>0</th>\n",
       "      <td>incident résolu &amp;gt; Retour à une circulation ...</td>\n",
       "      <td>2016-02-07 14:44:24</td>\n",
       "      <td>696343759580196864</td>\n",
       "      <td>TBC TramC</td>\n",
       "      <td>tbc_tramc</td>\n",
       "    </tr>\n",
       "    <tr>\n",
       "      <th>1</th>\n",
       "      <td>Incident technique au Terminus Parc des Exposi...</td>\n",
       "      <td>2016-02-07 14:27:00</td>\n",
       "      <td>696339381788020736</td>\n",
       "      <td>TBC TramC</td>\n",
       "      <td>tbc_tramc</td>\n",
       "    </tr>\n",
       "    <tr>\n",
       "      <th>2</th>\n",
       "      <td>Reprise progressive du trafic entre Terres Neu...</td>\n",
       "      <td>2016-02-05 11:31:11</td>\n",
       "      <td>695570358582247424</td>\n",
       "      <td>TBC TramC</td>\n",
       "      <td>tbc_tramc</td>\n",
       "    </tr>\n",
       "    <tr>\n",
       "      <th>3</th>\n",
       "      <td>Interruption entre Terres Neuves et Lycée Václ...</td>\n",
       "      <td>2016-02-05 10:30:12</td>\n",
       "      <td>695555013205172224</td>\n",
       "      <td>TBC TramC</td>\n",
       "      <td>tbc_tramc</td>\n",
       "    </tr>\n",
       "    <tr>\n",
       "      <th>4</th>\n",
       "      <td>Dès 10h : Visite du chef de l'Etat &amp;gt; Pertur...</td>\n",
       "      <td>2016-02-05 08:14:18</td>\n",
       "      <td>695520813823488000</td>\n",
       "      <td>TBC TramC</td>\n",
       "      <td>tbc_tramc</td>\n",
       "    </tr>\n",
       "  </tbody>\n",
       "</table>\n",
       "</div>"
      ],
      "text/plain": [
       "                                             content                date  \\\n",
       "0  incident résolu &gt; Retour à une circulation ... 2016-02-07 14:44:24   \n",
       "1  Incident technique au Terminus Parc des Exposi... 2016-02-07 14:27:00   \n",
       "2  Reprise progressive du trafic entre Terres Neu... 2016-02-05 11:31:11   \n",
       "3  Interruption entre Terres Neuves et Lycée Václ... 2016-02-05 10:30:12   \n",
       "4  Dès 10h : Visite du chef de l'Etat &gt; Pertur... 2016-02-05 08:14:18   \n",
       "\n",
       "                   id     source       user  \n",
       "0  696343759580196864  TBC TramC  tbc_tramc  \n",
       "1  696339381788020736  TBC TramC  tbc_tramc  \n",
       "2  695570358582247424  TBC TramC  tbc_tramc  \n",
       "3  695555013205172224  TBC TramC  tbc_tramc  \n",
       "4  695520813823488000  TBC TramC  tbc_tramc  "
      ]
     },
     "execution_count": 7,
     "metadata": {},
     "output_type": "execute_result"
    }
   ],
   "source": [
    "all_data['tbc_tramc'].head()"
   ]
  },
  {
   "cell_type": "code",
   "execution_count": 8,
   "metadata": {
    "collapsed": false
   },
   "outputs": [
    {
     "data": {
      "text/html": [
       "<div>\n",
       "<table border=\"1\" class=\"dataframe\">\n",
       "  <thead>\n",
       "    <tr style=\"text-align: right;\">\n",
       "      <th></th>\n",
       "      <th>content</th>\n",
       "      <th>date</th>\n",
       "      <th>id</th>\n",
       "      <th>source</th>\n",
       "      <th>user</th>\n",
       "    </tr>\n",
       "  </thead>\n",
       "  <tbody>\n",
       "    <tr>\n",
       "      <th>826</th>\n",
       "      <td>Pour activer votre réabonnement, pensez à bien...</td>\n",
       "      <td>2013-09-05 12:11:58</td>\n",
       "      <td>375592138580701184</td>\n",
       "      <td>Lianes 3</td>\n",
       "      <td>tbc_lianes3</td>\n",
       "    </tr>\n",
       "    <tr>\n",
       "      <th>827</th>\n",
       "      <td>Départ de 07h04 de St-Médard \"Gare Routière\", ...</td>\n",
       "      <td>2013-09-05 04:47:03</td>\n",
       "      <td>375480172428132352</td>\n",
       "      <td>Lianes 3</td>\n",
       "      <td>tbc_lianes3</td>\n",
       "    </tr>\n",
       "    <tr>\n",
       "      <th>828</th>\n",
       "      <td>Retard d'environ 15 min pour le bus au départ ...</td>\n",
       "      <td>2013-09-04 07:05:54</td>\n",
       "      <td>375152724574490624</td>\n",
       "      <td>Lianes 3</td>\n",
       "      <td>tbc_lianes3</td>\n",
       "    </tr>\n",
       "    <tr>\n",
       "      <th>829</th>\n",
       "      <td>Lancement de la tweet-infotrafic de votre Lian...</td>\n",
       "      <td>2013-09-01 09:06:12</td>\n",
       "      <td>374095834641891328</td>\n",
       "      <td>Lianes 3</td>\n",
       "      <td>tbc_lianes3</td>\n",
       "    </tr>\n",
       "    <tr>\n",
       "      <th>830</th>\n",
       "      <td>Lancement de la tweet-infotrafic de votre Lian...</td>\n",
       "      <td>2013-09-01 09:06:12</td>\n",
       "      <td>374095834641891328</td>\n",
       "      <td>Lianes 3</td>\n",
       "      <td>tbc_lianes3</td>\n",
       "    </tr>\n",
       "  </tbody>\n",
       "</table>\n",
       "</div>"
      ],
      "text/plain": [
       "                                               content                date  \\\n",
       "826  Pour activer votre réabonnement, pensez à bien... 2013-09-05 12:11:58   \n",
       "827  Départ de 07h04 de St-Médard \"Gare Routière\", ... 2013-09-05 04:47:03   \n",
       "828  Retard d'environ 15 min pour le bus au départ ... 2013-09-04 07:05:54   \n",
       "829  Lancement de la tweet-infotrafic de votre Lian... 2013-09-01 09:06:12   \n",
       "830  Lancement de la tweet-infotrafic de votre Lian... 2013-09-01 09:06:12   \n",
       "\n",
       "                     id     source         user  \n",
       "826  375592138580701184  Lianes 3   tbc_lianes3  \n",
       "827  375480172428132352  Lianes 3   tbc_lianes3  \n",
       "828  375152724574490624  Lianes 3   tbc_lianes3  \n",
       "829  374095834641891328  Lianes 3   tbc_lianes3  \n",
       "830  374095834641891328  Lianes 3   tbc_lianes3  "
      ]
     },
     "execution_count": 8,
     "metadata": {},
     "output_type": "execute_result"
    }
   ],
   "source": [
    "all_data['tbc_lianes3'].tail()"
   ]
  },
  {
   "cell_type": "code",
   "execution_count": 14,
   "metadata": {
    "collapsed": false
   },
   "outputs": [
    {
     "data": {
      "text/plain": [
       "False"
      ]
     },
     "execution_count": 14,
     "metadata": {},
     "output_type": "execute_result"
    }
   ],
   "source": [
    "last.is_new_tweets(data_dict)"
   ]
  },
  {
   "cell_type": "code",
   "execution_count": 6,
   "metadata": {
    "collapsed": true
   },
   "outputs": [],
   "source": []
  },
  {
   "cell_type": "code",
   "execution_count": 5,
   "metadata": {
    "collapsed": false
   },
   "outputs": [],
   "source": [
    "all_data_2 = TweetC.read_dict()"
   ]
  },
  {
   "cell_type": "code",
   "execution_count": 8,
   "metadata": {
    "collapsed": false,
    "scrolled": true
   },
   "outputs": [
    {
     "data": {
      "text/html": [
       "<div>\n",
       "<table border=\"1\" class=\"dataframe\">\n",
       "  <thead>\n",
       "    <tr style=\"text-align: right;\">\n",
       "      <th></th>\n",
       "      <th>text</th>\n",
       "      <th>created_at</th>\n",
       "      <th>source</th>\n",
       "    </tr>\n",
       "  </thead>\n",
       "  <tbody>\n",
       "    <tr>\n",
       "      <th>695649817775616000</th>\n",
       "      <td>Reprise de l'itinéraire normal sur toutes les ...</td>\n",
       "      <td>2016-02-05 16:46:55</td>\n",
       "      <td>TBC TramA</td>\n",
       "    </tr>\n",
       "    <tr>\n",
       "      <th>695652497877286912</th>\n",
       "      <td>Retard sur votre ligne suite au passage du cor...</td>\n",
       "      <td>2016-02-05 16:57:34</td>\n",
       "      <td>TBC TramA</td>\n",
       "    </tr>\n",
       "    <tr>\n",
       "      <th>695663688796266497</th>\n",
       "      <td>Retour à une circulation normale sur votre lig...</td>\n",
       "      <td>2016-02-05 17:42:02</td>\n",
       "      <td>TBC TramA</td>\n",
       "    </tr>\n",
       "    <tr>\n",
       "      <th>695921371226963968</th>\n",
       "      <td>Suite à un incident technique sur une rame, ra...</td>\n",
       "      <td>2016-02-06 10:45:59</td>\n",
       "      <td>TBC TramA</td>\n",
       "    </tr>\n",
       "    <tr>\n",
       "      <th>695927876508590081</th>\n",
       "      <td>Retour à une circulation normale sur votre lig...</td>\n",
       "      <td>2016-02-06 11:11:50</td>\n",
       "      <td>TBC TramA</td>\n",
       "    </tr>\n",
       "  </tbody>\n",
       "</table>\n",
       "</div>"
      ],
      "text/plain": [
       "                                                                 text  \\\n",
       "695649817775616000  Reprise de l'itinéraire normal sur toutes les ...   \n",
       "695652497877286912  Retard sur votre ligne suite au passage du cor...   \n",
       "695663688796266497  Retour à une circulation normale sur votre lig...   \n",
       "695921371226963968  Suite à un incident technique sur une rame, ra...   \n",
       "695927876508590081  Retour à une circulation normale sur votre lig...   \n",
       "\n",
       "                            created_at     source  \n",
       "695649817775616000 2016-02-05 16:46:55  TBC TramA  \n",
       "695652497877286912 2016-02-05 16:57:34  TBC TramA  \n",
       "695663688796266497 2016-02-05 17:42:02  TBC TramA  \n",
       "695921371226963968 2016-02-06 10:45:59  TBC TramA  \n",
       "695927876508590081 2016-02-06 11:11:50  TBC TramA  "
      ]
     },
     "execution_count": 8,
     "metadata": {},
     "output_type": "execute_result"
    }
   ],
   "source": [
    "all_data_2['tbc_trama'].tail()"
   ]
  },
  {
   "cell_type": "code",
   "execution_count": 3,
   "metadata": {
    "collapsed": false
   },
   "outputs": [
    {
     "data": {
      "text/plain": [
       "<tweets_tbc.Tweet at 0x7f23d2294250>"
      ]
     },
     "execution_count": 3,
     "metadata": {},
     "output_type": "execute_result"
    }
   ],
   "source": [
    "last = TweetC.get_last('tbc_trama')\n",
    "last"
   ]
  },
  {
   "cell_type": "code",
   "execution_count": 4,
   "metadata": {
    "collapsed": false
   },
   "outputs": [],
   "source": [
    "TweetC.add_tweet_to_data(last)"
   ]
  },
  {
   "cell_type": "code",
   "execution_count": 5,
   "metadata": {
    "collapsed": false
   },
   "outputs": [],
   "source": [
    "all_data_2 = TweetC.read_dict_df()"
   ]
  },
  {
   "cell_type": "code",
   "execution_count": 7,
   "metadata": {
    "collapsed": false,
    "scrolled": true
   },
   "outputs": [
    {
     "data": {
      "text/html": [
       "<div>\n",
       "<table border=\"1\" class=\"dataframe\">\n",
       "  <thead>\n",
       "    <tr style=\"text-align: right;\">\n",
       "      <th></th>\n",
       "      <th>content</th>\n",
       "      <th>date</th>\n",
       "      <th>id</th>\n",
       "      <th>source</th>\n",
       "      <th>user</th>\n",
       "    </tr>\n",
       "  </thead>\n",
       "  <tbody>\n",
       "    <tr>\n",
       "      <th>0</th>\n",
       "      <td>Retour à une circulation normale sur votre lig...</td>\n",
       "      <td>2016-02-06 11:11:50</td>\n",
       "      <td>695927876508590081</td>\n",
       "      <td>TBC TramA</td>\n",
       "      <td>tbc_trama</td>\n",
       "    </tr>\n",
       "    <tr>\n",
       "      <th>1</th>\n",
       "      <td>Retour à une circulation normale sur votre lig...</td>\n",
       "      <td>2016-02-06 11:11:50</td>\n",
       "      <td>695927876508590081</td>\n",
       "      <td>TBC TramA</td>\n",
       "      <td>tbc_trama</td>\n",
       "    </tr>\n",
       "    <tr>\n",
       "      <th>2</th>\n",
       "      <td>Suite à un incident technique sur une rame, ra...</td>\n",
       "      <td>2016-02-06 10:45:59</td>\n",
       "      <td>695921371226963968</td>\n",
       "      <td>TBC TramA</td>\n",
       "      <td>tbc_trama</td>\n",
       "    </tr>\n",
       "    <tr>\n",
       "      <th>3</th>\n",
       "      <td>Retour à une circulation normale sur votre lig...</td>\n",
       "      <td>2016-02-05 17:42:02</td>\n",
       "      <td>695663688796266497</td>\n",
       "      <td>TBC TramA</td>\n",
       "      <td>tbc_trama</td>\n",
       "    </tr>\n",
       "    <tr>\n",
       "      <th>4</th>\n",
       "      <td>Retard sur votre ligne suite au passage du cor...</td>\n",
       "      <td>2016-02-05 16:57:34</td>\n",
       "      <td>695652497877286912</td>\n",
       "      <td>TBC TramA</td>\n",
       "      <td>tbc_trama</td>\n",
       "    </tr>\n",
       "  </tbody>\n",
       "</table>\n",
       "</div>"
      ],
      "text/plain": [
       "                                             content                date  \\\n",
       "0  Retour à une circulation normale sur votre lig... 2016-02-06 11:11:50   \n",
       "1  Retour à une circulation normale sur votre lig... 2016-02-06 11:11:50   \n",
       "2  Suite à un incident technique sur une rame, ra... 2016-02-06 10:45:59   \n",
       "3  Retour à une circulation normale sur votre lig... 2016-02-05 17:42:02   \n",
       "4  Retard sur votre ligne suite au passage du cor... 2016-02-05 16:57:34   \n",
       "\n",
       "                   id     source       user  \n",
       "0  695927876508590081  TBC TramA  tbc_trama  \n",
       "1  695927876508590081  TBC TramA  tbc_trama  \n",
       "2  695921371226963968  TBC TramA  tbc_trama  \n",
       "3  695663688796266497  TBC TramA  tbc_trama  \n",
       "4  695652497877286912  TBC TramA  tbc_trama  "
      ]
     },
     "execution_count": 7,
     "metadata": {},
     "output_type": "execute_result"
    }
   ],
   "source": [
    "all_data_2['tbc_trama'].head()"
   ]
  },
  {
   "cell_type": "code",
   "execution_count": 3,
   "metadata": {
    "collapsed": false
   },
   "outputs": [
    {
     "data": {
      "text/plain": [
       "[{'isnew': False, 'user': 'tbc_trama'},\n",
       " {'isnew': False, 'user': 'tbc_tramb'},\n",
       " {'isnew': False, 'user': 'tbc_tramc'},\n",
       " {'isnew': False, 'user': 'tbc_lianes1'},\n",
       " {'isnew': False, 'user': 'tbc_lianes3'},\n",
       " {'isnew': False, 'user': 'tbc_lianes8'}]"
      ]
     },
     "execution_count": 3,
     "metadata": {},
     "output_type": "execute_result"
    }
   ],
   "source": [
    "TweetC.new_tweet()"
   ]
  },
  {
   "cell_type": "code",
   "execution_count": null,
   "metadata": {
    "collapsed": true
   },
   "outputs": [],
   "source": []
  }
 ],
 "metadata": {
  "kernelspec": {
   "display_name": "Python 2",
   "language": "python",
   "name": "python2"
  },
  "language_info": {
   "codemirror_mode": {
    "name": "ipython",
    "version": 2
   },
   "file_extension": ".py",
   "mimetype": "text/x-python",
   "name": "python",
   "nbconvert_exporter": "python",
   "pygments_lexer": "ipython2",
   "version": "2.7.11"
  }
 },
 "nbformat": 4,
 "nbformat_minor": 0
}
