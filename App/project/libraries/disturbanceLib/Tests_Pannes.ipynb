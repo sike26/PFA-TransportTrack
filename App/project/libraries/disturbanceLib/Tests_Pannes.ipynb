{
 "cells": [
  {
   "cell_type": "code",
   "execution_count": 1,
   "metadata": {
    "collapsed": false
   },
   "outputs": [],
   "source": [
    "from Detection import *\n",
    "from Detection.TestDetection import *\n",
    "from Collecte.tweets_tbc import *\n",
    "\n",
    "import Traitement.extract as ex\n",
    "from Traitement.test_Extract import *\n",
    "\n",
    "from pattern.fr import parse, split, tag, parsetree, ngrams, tokenize\n",
    "from pattern.search import Pattern\n",
    "from Traitement.timex import *\n",
    "from datetime import datetime\n",
    "import re\n",
    "import unicodedata\n",
    "import Perturbation as per\n",
    "import pprint"
   ]
  },
  {
   "cell_type": "code",
   "execution_count": 2,
   "metadata": {
    "collapsed": true
   },
   "outputs": [],
   "source": [
    "# Test sans spliter les tweets :"
   ]
  },
  {
   "cell_type": "code",
   "execution_count": 3,
   "metadata": {
    "collapsed": false,
    "scrolled": true
   },
   "outputs": [
    {
     "name": "stdout",
     "output_type": "stream",
     "text": [
      "RALENTISSEMENT erreur : La fr\\xe9quence de votre ligne est toujours perturb\\xe9e #tbc #tbcTramA\n",
      " REPRISE\n",
      "NP erreur : MANIFESTATION Jeudi 31 janvier d\\xe8s 11h : perturbations sur le r\\xe9seau tram et bus. http://t.co/gxxbRauz #tbc #tbcTramA  #tbcTramB  #tbcTramC\n",
      " PANNE\n",
      "REPRISE erreur : Reprise du trafic entre Buttini\\xe8re et La Morlette. Ligne A interrompue entre La Morlettte et Dravemont. http://t.co/OQlL6kEw #tbc #tbcTramA\n",
      " PANNE\n",
      "REPRISE erreur : Reprise progressive du trafic sur votre ligne. Quelques retards \\xe0 pr\\xe9voir suite \\xe0 l'incident survenu pr\\xe9c\\xe9demment. #tbc #tbcTramC\n",
      " RALENTISSEMENT\n",
      "PANNE erreur : Intervention des pompiers sur la Ligne A. Reprise de la Ligne en fin de soir\\xe9e.\n",
      " REPRISE\n",
      "PANNE erreur : Suite \\xe0 un incident voyageur et dans l'attente des secours, blocage de toutes les rames en station...\n",
      " RALENTISSEMENT\n",
      "PANNE erreur : Tram A: un nouveau malaise voyageur en station 'M\\xe9riadeck' interrompt, de nouveau, le trafic. Attente des pompiers sur place.\n",
      " RALENTISSEMENT\n",
      "PANNE erreur : Suite \\xe0 un accident mat\\xe9riel, la ligne Tram C est momentan\\xe9ment immobilis\\xe9e. #tbc #tbcTramC\n",
      " RALENTISSEMENT\n",
      "PANNE erreur : Malaise sur les voies en station Terres Neuves.Trafic fortement ralenti vers les Aubiers en attente de l'intervention des pompiers. #tbc\n",
      " RALENTISSEMENT\n",
      "Fin du test\n",
      "PANNE (52): erreurs: 5, 0.0961538461538  || succes : 47, 0.903846153846\n",
      "REPRISE (54): erreurs: 2, 0.037037037037  || succes : 52, 0.962962962963\n",
      "RALENTISSEMENT (24): erreurs: 1, 0.0416666666667  || succes : 23, 0.958333333333\n",
      "NON PERTINANT (18): erreurs: 1, 0.0555555555556  || succes : 17, 0.944444444444\n",
      "TOTAL (sur 148 tweets) erreurs: 9, 0.0608108108108  || succes : 139, 0.939189189189\n"
     ]
    }
   ],
   "source": [
    "# Algorithme Classification a base de Naives Bayes.\n",
    "test_class('bayes') \n",
    "\n",
    "# Resultat, 94% de Succes."
   ]
  },
  {
   "cell_type": "code",
   "execution_count": 4,
   "metadata": {
    "collapsed": false,
    "scrolled": true
   },
   "outputs": [
    {
     "name": "stdout",
     "output_type": "stream",
     "text": [
      "RALENTISSEMENT erreur : La fr\\xe9quence de votre ligne est toujours perturb\\xe9e #tbc #tbcTramA\n",
      " REPRISE\n",
      "NP erreur : MANIFESTATION Jeudi 31 janvier d\\xe8s 11h : perturbations sur le r\\xe9seau tram et bus. http://t.co/gxxbRauz #tbc #tbcTramA  #tbcTramB  #tbcTramC\n",
      " PANNE\n",
      "REPRISE erreur : Fin de l'arr\\xeat\\xe9 pr\\xe9fectoral. Les bus sortent progressivement du d\\xe9p\\xf4t. http://t.co/alAqsJBU #tbc\n",
      " NONPERTINANT\n",
      "REPRISE erreur : Reprise du trafic entre Buttini\\xe8re et La Morlette. Ligne A interrompue entre La Morlettte et Dravemont. http://t.co/OQlL6kEw #tbc #tbcTramA\n",
      " PANNE\n",
      "REPRISE erreur : Reprise progressive du trafic sur votre ligne. Quelques retards \\xe0 pr\\xe9voir suite \\xe0 l'incident survenu pr\\xe9c\\xe9demment. #tbc #tbcTramC\n",
      " RALENTISSEMENT\n",
      "PANNE erreur : Intervention des pompiers sur la Ligne A. Reprise de la Ligne en fin de soir\\xe9e.\n",
      " REPRISE\n",
      "PANNE erreur : Suite \\xe0 un incident voyageur et dans l'attente des secours, blocage de toutes les rames en station...\n",
      " RALENTISSEMENT\n",
      "PANNE erreur : Tram A: un nouveau malaise voyageur en station 'M\\xe9riadeck' interrompt, de nouveau, le trafic. Attente des pompiers sur place.\n",
      " RALENTISSEMENT\n",
      "PANNE erreur : Suite \\xe0 un accident mat\\xe9riel, la ligne Tram C est momentan\\xe9ment immobilis\\xe9e. #tbc #tbcTramC\n",
      " RALENTISSEMENT\n",
      "PANNE erreur : Malaise sur les voies en station Terres Neuves.Trafic fortement ralenti vers les Aubiers en attente de l'intervention des pompiers. #tbc\n",
      " RALENTISSEMENT\n",
      "Fin du test\n",
      "PANNE (52): erreurs: 5, 0.0961538461538  || succes : 47, 0.903846153846\n",
      "REPRISE (54): erreurs: 3, 0.0555555555556  || succes : 51, 0.944444444444\n",
      "RALENTISSEMENT (24): erreurs: 1, 0.0416666666667  || succes : 23, 0.958333333333\n",
      "NON PERTINANT (18): erreurs: 1, 0.0555555555556  || succes : 17, 0.944444444444\n",
      "TOTAL (sur 148 tweets) erreurs: 10, 0.0675675675676  || succes : 138, 0.932432432432\n"
     ]
    }
   ],
   "source": [
    "# Algorithme de Classification a base de SVM.\n",
    "test_class('SVM')\n",
    "\n",
    "# Resultat, 93% de Succes."
   ]
  },
  {
   "cell_type": "code",
   "execution_count": null,
   "metadata": {
    "collapsed": false
   },
   "outputs": [],
   "source": [
    "# Test avec le split des tweets, avec un algorithme Naives Bayes.\n",
    "# Resultats : 89% de succes. "
   ]
  },
  {
   "cell_type": "code",
   "execution_count": 2,
   "metadata": {
    "collapsed": false,
    "scrolled": true
   },
   "outputs": [
    {
     "name": "stdout",
     "output_type": "stream",
     "text": [
      "('Circulation Tram et Bus perturb\\\\xe9e .', 'RALENTISSEMENT', 'PANNE')\n",
      "('Navettes tram assurent la liaison .', 'NONPERTINANT', 'PANNE')\n",
      "(\"Interruption effective jusqu'\\\\xe0 la fin du service .\", 'PANNE', 'REPRISE')\n",
      "(\"Suite \\\\xe0 un incident voyageur et dans l'attente des secours , blocage de toutes les rames en station ...\", 'PANNE', 'RALENTISSEMENT')\n",
      "(\"Tram A : un nouveau malaise voyageur en station ' M\\\\xe9riadeck ' interrompt , de nouveau , le trafic .\", 'PANNE', 'RALENTISSEMENT')\n",
      "('Attente des pompiers sur place .', 'PANNE', 'RALENTISSEMENT')\n",
      "(\"La rame en panne n'occasionne plus de g\\\\xeane sur la ligne .\", 'REPRISE', 'RALENTISSEMENT')\n",
      "TOTAL (sur 68 tweets) succes : 62, 0.911764705882, taux d'erreur 0.0882352941176\n",
      "Soit 86 classement correct sur 93, succes : 0.924731182796, erreur 0.0752688172043\n"
     ]
    }
   ],
   "source": [
    "test_class_2('./test2/jeu_test_1', transport='TRAM', predict=False)"
   ]
  },
  {
   "cell_type": "code",
   "execution_count": null,
   "metadata": {
    "collapsed": true
   },
   "outputs": [],
   "source": [
    "# Test (sans split) pour les lianes 1, 3, et 8 de BUS\n",
    "# Classification avec Naive Bayes\n",
    "# Resultats : (donnees de test trop peu nombreuses...) "
   ]
  },
  {
   "cell_type": "code",
   "execution_count": 3,
   "metadata": {
    "collapsed": false
   },
   "outputs": [
    {
     "name": "stdout",
     "output_type": "stream",
     "text": [
      "('Fin de manifestation .', 'REPRISE', 'RALENTISSEMENT')\n",
      "('Jeudi 10 mars : Manifestation en centre ville d\\xc3\\xa8s 10h . \\xe2\\x80\\xa6', 'RALENTISSEMENT', 'NONPERTINANT')\n",
      "('Manifestation : Reprise de l\\xe2\\x80\\x99itin\\xc3\\xa9raire normal .', 'REPRISE', 'RALENTISSEMENT')\n",
      "(\"D\\xc3\\xa9part ' Gare St-Jean ' : 16h29 immobilis\\xc3\\xa9 \\xc3\\xa0 R\\xc3\\xa9publique pour intervention pompiers . Merci de patienter .\", 'RALENTISSEMENT', 'NONPERTINANT')\n",
      "('Fin du blocage de la rue Henri IV . Merci de votre compr\\xc3\\xa9hension .', 'REPRISE', 'NONPERTINANT')\n",
      "('Lev\\xc3\\xa9e du Pont Chaban-Delmas anticip\\xc3\\xa9e \\xc3\\xa0 07h50 . Lignes BUS 7/32/45 et BatCub impact\\xc3\\xa9es !', 'RALENTISSEMENT', 'REPRISE')\n",
      "('Travaux cours Tournon \\xc3\\xa0 Bordeaux termin\\xc3\\xa9s . Fin du report d\\'arr\\xc3\\xaat \" Tourny \" .', 'RALENTISSEMENT', 'REPRISE')\n",
      "TOTAL (sur 50 tweets) succes : 43, 0.86, taux d'erreur 0.14\n",
      "Soit 43 classement correct sur 50, succes : 0.86, erreur 0.14\n"
     ]
    }
   ],
   "source": [
    "test_class_2('./test2/jeu_test_2', transport='BUS')"
   ]
  },
  {
   "cell_type": "code",
   "execution_count": 2,
   "metadata": {
    "collapsed": false,
    "scrolled": true
   },
   "outputs": [
    {
     "name": "stdout",
     "output_type": "stream",
     "text": [
      "_____________________________________________\n",
      "test 1\n",
      "\n",
      "Travaux Tram B : prolongation de l'interruption jusqu'\\xe0 Mus\\xe9e d'Aquitaine les nuits des 26 et 27/07.\n",
      "\n",
      "\n",
      "Travaux Tram B : prolongation de l'interruption jusqu'\\xe0 Mus\\xe9e d'Aquitaine les nuits <TIMEX>des 26 et 27/07</TIMEX>.\n",
      "\n",
      "\n",
      "[[datetime.datetime(2016, 7, 26, 5, 30), 10], [datetime.datetime(2016, 7, 27, 5, 30), 10]]\n",
      "\n",
      "_____________________________________________\n",
      "_____________________________________________\n",
      "test 2\n",
      "\n",
      "Travaux journ\\xe9e 21 au 27/07: Interruption Tram B de Quinconces \\xe0 Berges-Garonne (relais bus assur\\xe9).\n",
      "\n",
      "\n",
      "Travaux journ\\xe9e <TIMEX>21 au 27/07</TIMEX>: Interruption Tram B de Quinconces \\xe0 Berges-Garonne (relais bus assur\\xe9).\n",
      "\n",
      "\n",
      "[[datetime.datetime(2016, 7, 21, 5, 30), 10], [datetime.datetime(2016, 7, 22, 5, 30), 10], [datetime.datetime(2016, 7, 23, 5, 30), 10], [datetime.datetime(2016, 7, 24, 5, 30), 10], [datetime.datetime(2016, 7, 25, 5, 30), 10], [datetime.datetime(2016, 7, 26, 5, 30), 10], [datetime.datetime(2016, 7, 27, 5, 30), 10]]\n",
      "\n",
      "_____________________________________________\n",
      "_____________________________________________\n",
      "test 3\n",
      "\n",
      "Travaux Tram B : Station \"Grand Th\\xe9\\xe2tre\" non desservie du 16 au 31 juillet 2014 inclus.\n",
      "\n",
      "\n",
      "Travaux Tram B : Station \"Grand Th\\xe9\\xe2tre\" non desservie <TIMEX>du 16 au 31 juillet</TIMEX> 2014 inclus.\n",
      "\n",
      "\n",
      "[[datetime.datetime(2016, 7, 16, 5, 30), 10], [datetime.datetime(2016, 7, 17, 5, 30), 10], [datetime.datetime(2016, 7, 18, 5, 30), 10], [datetime.datetime(2016, 7, 19, 5, 30), 10], [datetime.datetime(2016, 7, 20, 5, 30), 10], [datetime.datetime(2016, 7, 21, 5, 30), 10], [datetime.datetime(2016, 7, 22, 5, 30), 10], [datetime.datetime(2016, 7, 23, 5, 30), 10], [datetime.datetime(2016, 7, 24, 5, 30), 10], [datetime.datetime(2016, 7, 25, 5, 30), 10], [datetime.datetime(2016, 7, 26, 5, 30), 10], [datetime.datetime(2016, 7, 27, 5, 30), 10], [datetime.datetime(2016, 7, 28, 5, 30), 10], [datetime.datetime(2016, 7, 29, 5, 30), 10], [datetime.datetime(2016, 7, 30, 5, 30), 10], [datetime.datetime(2016, 7, 31, 5, 30), 10]]\n",
      "\n",
      "_____________________________________________\n",
      "_____________________________________________\n",
      "test 4\n",
      "\n",
      "27/07 Travaux journ\\xe9e: Interruption TramB de Quinconces \\xe0 Berges de Garonne (relais bus assur\\xe9).\n",
      "\n",
      "\n",
      "<TIMEX>27/07</TIMEX> Travaux journ\\xe9e: Interruption TramB de Quinconces \\xe0 Berges de Garonne (relais bus assur\\xe9).\n",
      "\n",
      "\n",
      "[[datetime.datetime(2016, 7, 27, 5, 30), 10]]\n",
      "\n",
      "_____________________________________________\n",
      "_____________________________________________\n",
      "test 5\n",
      "\n",
      "Lundi 14 juillet 2014 : Tram, Bus et BatCub en horaires de dimanche.\n",
      "\n",
      "\n",
      "<TIMEX>Lundi 14 juillet</TIMEX> 2014 : Tram, Bus et BatCub en horaires de dimanche.\n",
      "\n",
      "\n",
      "[[datetime.datetime(2016, 7, 14, 11, 39), 10]]\n",
      "\n",
      "_____________________________________________\n",
      "_____________________________________________\n",
      "test 6\n",
      "\n",
      "Suite \\xe0 un incident technique retard de 10 \\xe0 12 min sur l'ensemble de la ligne.\n",
      "\n",
      "\n",
      "Suite \\xe0 un incident technique retard de 10 \\xe0 12 min sur l'ensemble de la ligne.\n",
      "\n",
      "\n",
      "[]\n",
      "\n",
      "_____________________________________________\n",
      "_____________________________________________\n",
      "test 7\n",
      "\n",
      "Ce soir TRAVAUX nocturnes : Tram B interrompu entre Doyen Brus et Pessac Centre d\\xe8s 21h.\n",
      "\n",
      "\n",
      "<TIMEX>Ce soir</TIMEX> TRAVAUX nocturnes : Tram B interrompu entre Doyen Brus et Pessac Centre d\\xe8s <TIMEX>21h</TIMEX>.\n",
      "\n",
      "\n",
      "[[datetime.datetime(2016, 3, 10, 21, 0), 0]]\n",
      "\n",
      "_____________________________________________\n",
      "_____________________________________________\n",
      "test 8\n",
      "\n",
      "1/07 Manifestation culturelle : TramB interrompu entre Quinconces et Mus\\xe9e d\\u2019Aquitaine de 19h \\xe0 23h.\n",
      "\n",
      "\n",
      "<TIMEX>1/07</TIMEX> Manifestation culturelle : TramB interrompu entre Quinconces et Mus\\xe9e d\\u2019Aquitaine <TIMEX>de 19h</TIMEX> \\xe0 <TIMEX>23h</TIMEX>.\n",
      "\n",
      "\n",
      "[[datetime.datetime(2016, 7, 1, 23, 0), 0]]\n",
      "\n",
      "_____________________________________________\n",
      "_____________________________________________\n",
      "test 9\n",
      "\n",
      "F\\xeate du Vin : du Jeudi 26 Juin au Dimanche 29 Juin 2014 \\xe0 Bordeaux.\n",
      "\n",
      "\n",
      "F\\xeate du Vin : <TIMEX>du <TIMEX>Jeudi 26 Juin au Dimanche 29 Juin</TIMEX> 2014 \\xe0 Bordeaux.\n",
      "\n",
      "\n",
      "[[datetime.datetime(2016, 6, 26, 11, 39), 10], [datetime.datetime(2016, 6, 27, 11, 39), 10], [datetime.datetime(2016, 6, 28, 11, 39), 10], [datetime.datetime(2016, 6, 29, 11, 39), 10]]\n",
      "\n",
      "_____________________________________________\n",
      "_____________________________________________\n",
      "test 10\n",
      "\n",
      "Nuit du samedi 28 juin 2014 : Alerte m\\xe9t\\xe9orologique =&gt; Risques de perturbations sur le r\\xe9seau Tbc.\n",
      "\n",
      "\n",
      "Nuit du <TIMEX>samedi 28 juin</TIMEX> 2014 : Alerte m\\xe9t\\xe9orologique =&gt; Risques de perturbations sur le r\\xe9seau Tbc.\n",
      "\n",
      "\n",
      "[[datetime.datetime(2016, 6, 28, 11, 39), 10]]\n",
      "\n",
      "_____________________________________________\n",
      "_____________________________________________\n",
      "test 11\n",
      "\n",
      "Pr\\xe9avis de gr\\xe8ve vendredi 26 avril. \n",
      "\n",
      "\n",
      "Pr\\xe9avis de gr\\xe8ve <TIMEX>vendredi 26 avril</TIMEX>. \n",
      "\n",
      "\n",
      "[[datetime.datetime(2016, 4, 26, 11, 39), 10]]\n",
      "\n",
      "_____________________________________________\n",
      "_____________________________________________\n",
      "test 12\n",
      "\n",
      "Travaux nocturnes : Interruption Tram C de Berges du Lac \\xe0 Grand Parc les 28 et 29 Oct d\\xe8s 21h.\n",
      "\n",
      "\n",
      "Travaux nocturnes : Interruption Tram C de Berges du Lac \\xe0 Grand Parc les 28 et 29 Oct d\\xe8s <TIMEX>21h</TIMEX>.\n",
      "\n",
      "\n",
      "[[datetime.datetime(2016, 3, 10, 21, 0), 0]]\n",
      "\n",
      "_____________________________________________\n",
      "_____________________________________________\n",
      "test 13\n",
      "\n",
      "ANIFESTATION : Perturbations \\xe0 pr\\xe9voir sur le r\\xe9seau Tbc \\xe0 partir de 11h.\n",
      "\n",
      "\n",
      "ANIFESTATION : Perturbations \\xe0 pr\\xe9voir sur le r\\xe9seau Tbc \\xe0 partir <TIMEX>de 11h</TIMEX>.\n",
      "\n",
      "\n",
      "[[datetime.datetime(2016, 3, 10, 11, 0), 0]]\n",
      "\n",
      "_____________________________________________\n",
      "_____________________________________________\n",
      "test 14\n",
      "\n",
      "Travaux Tram C interrompu entre Les Aubiers et Grand Parc d\\xe8s 20h du 28 au 30 octobre 2013 inclus.\n",
      "\n",
      "\n",
      "Travaux Tram C interrompu entre Les Aubiers et Grand Parc d\\xe8s <TIMEX>20h</TIMEX> <TIMEX>du 28 au 30 octobre</TIMEX> 2013 inclus.\n",
      "\n",
      "\n",
      "[[datetime.datetime(2016, 10, 28, 20, 0), 0], [datetime.datetime(2016, 10, 29, 20, 0), 0], [datetime.datetime(2016, 10, 30, 20, 0), 0]]\n",
      "\n",
      "_____________________________________________\n",
      "_____________________________________________\n",
      "test 15\n",
      "\n",
      "MouvementSocial Pr\\xe9visions de circulation pour vendredi 29/5 et samedi 30/5 avec premiers et derniers d\\xe9parts.\n",
      "\n",
      "\n",
      "MouvementSocial Pr\\xe9visions de circulation pour <TIMEX><TIMEX>vendredi 29/5 et samedi 30/5</TIMEX> avec premiers et derniers d\\xe9parts.\n",
      "\n",
      "\n",
      "[[datetime.datetime(2016, 5, 29, 5, 30), 10], [datetime.datetime(2016, 5, 30, 5, 30), 10]]\n",
      "\n",
      "_____________________________________________\n",
      "_____________________________________________\n",
      "test 16\n",
      "\n",
      "Mouvement social vendredi 29 et samedi 30 mai : pr\\xe9visions de circulation disponibles.\n",
      "\n",
      "\n",
      "Mouvement social <TIMEX><TIMEX>vendredi 29 et samedi 30 mai</TIMEX> : pr\\xe9visions de circulation disponibles.\n",
      "\n",
      "\n",
      "[[datetime.datetime(2016, 5, 29, 11, 39), 10], [datetime.datetime(2016, 5, 30, 11, 39), 10]]\n",
      "\n",
      "_____________________________________________\n",
      "_____________________________________________\n",
      "test 17\n",
      "\n",
      "Lauriers/Morlette. Intervention technique pr\\xe9vue jusqu'en d\\xe9but de soir\\xe9e.\n",
      "\n",
      "\n",
      "Lauriers/Morlette. Intervention technique pr\\xe9vue jusqu'en d\\xe9but de <TIMEX>soir</TIMEX>\\xe9e.\n",
      "\n",
      "\n",
      "[[datetime.datetime(2016, 3, 10, 21, 39), 2]]\n",
      "\n",
      "_____________________________________________\n",
      "_____________________________________________\n",
      "test 18\n",
      "\n",
      "Intervention technique en cours. Interruption effective jusqu'\\xe0 la fin du service. Relais bus assur\\xe9.\n",
      "\n",
      "\n",
      "Intervention technique en cours. Interruption effective jusqu'\\xe0 la <TIMEX>fin du service</TIMEX>. Relais bus assur\\xe9.\n",
      "\n",
      "\n",
      "[[datetime.datetime(2016, 3, 11, 1, 0), 1]]\n",
      "\n",
      "_____________________________________________\n",
      "_____________________________________________\n",
      "test 19\n",
      "\n",
      "Vendredi 18 janvier : Alerte m\\xe9t\\xe9o. Les bus ne circuleront pas avant 10h. Le tram fonctionne normalement.\n",
      "\n",
      "\n",
      "<TIMEX>Vendredi 18 janvier</TIMEX> : Alerte m\\xe9t\\xe9o. Les bus ne circuleront pas avant <TIMEX>10h</TIMEX>. Le tram fonctionne normalement.\n",
      "\n",
      "\n",
      "[[datetime.datetime(2016, 1, 18, 10, 0), 0]]\n",
      "\n",
      "_____________________________________________\n",
      "FIN DES TESTS\n"
     ]
    }
   ],
   "source": [
    "test_timex()"
   ]
  },
  {
   "cell_type": "code",
   "execution_count": null,
   "metadata": {
    "collapsed": false
   },
   "outputs": [],
   "source": [
    "# Quelques exemples des possibilitées / Problèmes"
   ]
  },
  {
   "cell_type": "code",
   "execution_count": 3,
   "metadata": {
    "collapsed": false
   },
   "outputs": [
    {
     "name": "stdout",
     "output_type": "stream",
     "text": [
      "{'class_type': 'REPRISE',\n",
      " 'date_start': [],\n",
      " 'direction': 2,\n",
      " 'duration': 'Unknow',\n",
      " 'interval': ['LA MORLETTE', 'BUTTINIERE'],\n",
      " 'line': 'TBC TramA',\n",
      " 'state': 'PROGRESS',\n",
      " 'tweet': <Collecte.tweets_tbc.Tweet object at 0x7fb29252aa90>}\n",
      "{'class_type': 'PANNE',\n",
      " 'date_start': [],\n",
      " 'direction': 2,\n",
      " 'duration': 'Unknow',\n",
      " 'interval': ['LA MORLETTE', 'FLOIRAC DRAVEMONT', 'LA GARDETTE'],\n",
      " 'line': 'TBC TramA',\n",
      " 'state': 'PROGRESS',\n",
      " 'tweet': <Collecte.tweets_tbc.Tweet object at 0x7fb29252a910>}\n"
     ]
    }
   ],
   "source": [
    "# Annonce d'une reprise et d'une panne dans le meme tweet\n",
    "# Faute d'orthographe dans un nom d'arret\n",
    "s = u\"Reprise du trafic entre Buttiniere et La Morlette. Ligne A interrompue entre La Morlettte et les Antennes. http://t.co/OQlL6kEw #tbc #tbcTramA\"\n",
    "t = Tweet('', 'TBC TramA', '', s, 42)\n",
    "d = per.Disturbance(t)\n",
    "list_d = d.extract_all()\n",
    "\n",
    "for dis in list_d:\n",
    "    pprint.pprint(dis.__dict__)"
   ]
  },
  {
   "cell_type": "code",
   "execution_count": 2,
   "metadata": {
    "collapsed": false
   },
   "outputs": [
    {
     "name": "stdout",
     "output_type": "stream",
     "text": [
      "{'class_type': 'PANNE',\n",
      " 'date_start': [datetime.datetime(2016, 4, 3, 1, 58, 12, 417395), 0],\n",
      " 'direction': 'Unknow',\n",
      " 'duration': 'Unknow',\n",
      " 'interval': [],\n",
      " 'line': 'TBC TramA',\n",
      " 'state': 'PROGRESS',\n",
      " 'tweet': <Collecte.tweets_tbc.Tweet object at 0x7f8d4d4f7690>}\n"
     ]
    }
   ],
   "source": [
    "# Annonce d'un panne prevu dans plusieurs jours\n",
    "s = u\"MANIFESTATION le 22 mars d\\xe8s 11h : perturbations sur le r\\xe9seau tram et bus.\"\n",
    "t = Tweet('', 'TBC TramA', '', s, 42)\n",
    "d = per.Disturbance(t)\n",
    "list_d = d.extract_all()\n",
    "\n",
    "for dis in list_d:\n",
    "    pprint.pprint(dis.__dict__)"
   ]
  },
  {
   "cell_type": "code",
   "execution_count": 9,
   "metadata": {
    "collapsed": false
   },
   "outputs": [
    {
     "ename": "AttributeError",
     "evalue": "'module' object has no attribute 'show_tweet'",
     "output_type": "error",
     "traceback": [
      "\u001b[1;31m---------------------------------------------------------------------------\u001b[0m",
      "\u001b[1;31mAttributeError\u001b[0m                            Traceback (most recent call last)",
      "\u001b[1;32m<ipython-input-9-9f0f2063db73>\u001b[0m in \u001b[0;36m<module>\u001b[1;34m()\u001b[0m\n\u001b[0;32m      3\u001b[0m \u001b[0ms\u001b[0m \u001b[1;33m=\u001b[0m \u001b[1;34mu\"Intervention des pompiers sur la Ligne A. Reprise de en début de soirée.\"\u001b[0m\u001b[1;33m\u001b[0m\u001b[0m\n\u001b[0;32m      4\u001b[0m \u001b[0mt\u001b[0m \u001b[1;33m=\u001b[0m \u001b[0mTweet\u001b[0m\u001b[1;33m(\u001b[0m\u001b[1;34m''\u001b[0m\u001b[1;33m,\u001b[0m \u001b[1;34m'TBC TramA'\u001b[0m\u001b[1;33m,\u001b[0m \u001b[1;34m''\u001b[0m\u001b[1;33m,\u001b[0m \u001b[0ms\u001b[0m\u001b[1;33m,\u001b[0m \u001b[1;36m42\u001b[0m\u001b[1;33m)\u001b[0m\u001b[1;33m\u001b[0m\u001b[0m\n\u001b[1;32m----> 5\u001b[1;33m \u001b[0mper\u001b[0m\u001b[1;33m.\u001b[0m\u001b[0mshow_tweet\u001b[0m\u001b[1;33m(\u001b[0m\u001b[0mt\u001b[0m\u001b[1;33m)\u001b[0m\u001b[1;33m\u001b[0m\u001b[0m\n\u001b[0m",
      "\u001b[1;31mAttributeError\u001b[0m: 'module' object has no attribute 'show_tweet'"
     ]
    }
   ],
   "source": [
    "# Annonce d'une reprise en fin de soiree\n",
    "# Mauvais decoupage du tweet en phrase\n",
    "s = u\"Intervention des pompiers sur la Ligne A. Reprise de en début de soirée.\"\n",
    "t = Tweet('', 'TBC TramA', '', s, 42)\n",
    "per.show_tweet(t)"
   ]
  },
  {
   "cell_type": "code",
   "execution_count": 3,
   "metadata": {
    "collapsed": false
   },
   "outputs": [
    {
     "name": "stdout",
     "output_type": "stream",
     "text": [
      "{'class_type': 'PANNE',\n",
      " 'date_start': [datetime.datetime(2016, 4, 3, 1, 58, 19, 630393), 0],\n",
      " 'direction': 2,\n",
      " 'duration': 'Unknow',\n",
      " 'interval': ['MERIGNAC CENTRE', 'QUATRE CHEMINS'],\n",
      " 'line': 'TBC TramA',\n",
      " 'state': 'PROGRESS',\n",
      " 'tweet': <Collecte.tweets_tbc.Tweet object at 0x7f8d78dcda90>}\n"
     ]
    }
   ],
   "source": [
    "s = u\"Véhicule immobilisé sur les voies Ligne Tram A interrompue entre Mérignac Centre et Quatre Chemins.\"\n",
    "t = Tweet('', 'TBC TramA', '', s, 42)\n",
    "d = per.Disturbance(t)\n",
    "list_d = d.extract_all()\n",
    "\n",
    "for dis in list_d:\n",
    "    pprint.pprint(dis.__dict__)"
   ]
  },
  {
   "cell_type": "code",
   "execution_count": 4,
   "metadata": {
    "collapsed": false
   },
   "outputs": [
    {
     "name": "stdout",
     "output_type": "stream",
     "text": [
      "{'class_type': 'RALENTISSEMENT',\n",
      " 'date_start': [datetime.datetime(2016, 3, 10, 5, 30), 10],\n",
      " 'direction': 0,\n",
      " 'duration': 'Unknow',\n",
      " 'interval': ['FLOIRAC DRAVEMONT', 'LA GARDETTE'],\n",
      " 'line': 'TBC TramA',\n",
      " 'state': 'PROGRESS',\n",
      " 'tweet': <Collecte.tweets_tbc.Tweet object at 0x7fd205be0cd0>}\n",
      "{'class_type': 'RALENTISSEMENT',\n",
      " 'date_start': [datetime.datetime(2016, 3, 11, 5, 30), 10],\n",
      " 'direction': 0,\n",
      " 'duration': 'Unknow',\n",
      " 'interval': ['FLOIRAC DRAVEMONT', 'LA GARDETTE'],\n",
      " 'line': 'TBC TramA',\n",
      " 'state': 'PROGRESS',\n",
      " 'tweet': <Collecte.tweets_tbc.Tweet object at 0x7fd205be0cd0>}\n",
      "{'class_type': 'RALENTISSEMENT',\n",
      " 'date_start': [datetime.datetime(2016, 3, 12, 5, 30), 10],\n",
      " 'direction': 0,\n",
      " 'duration': 'Unknow',\n",
      " 'interval': ['FLOIRAC DRAVEMONT', 'LA GARDETTE'],\n",
      " 'line': 'TBC TramA',\n",
      " 'state': 'PROGRESS',\n",
      " 'tweet': <Collecte.tweets_tbc.Tweet object at 0x7fd205be0cd0>}\n"
     ]
    }
   ],
   "source": [
    "s = u\"Ralentissement en direction des antennes du 10 au 12 mars.\"\n",
    "t = Tweet('', 'TBC TramA', '', s, 42)\n",
    "d = per.Disturbance(t)\n",
    "list_d = d.extract_all()\n",
    "\n",
    "for dis in list_d:\n",
    "    pprint.pprint(dis.__dict__)"
   ]
  },
  {
   "cell_type": "code",
   "execution_count": 6,
   "metadata": {
    "collapsed": false
   },
   "outputs": [
    {
     "data": {
      "text/plain": [
       "['MERIGNAC CENTRE', 'QUATRE CHEMINS']"
      ]
     },
     "execution_count": 6,
     "metadata": {},
     "output_type": "execute_result"
    }
   ],
   "source": [
    "E = Extract(u\"V\\xe9hicule immobilis\\xe9 sur les voies Ligne Tram A interrompue entre M\\xe9rignac Centre et Quatre Chemins.\")\n",
    "E.get_arrets()"
   ]
  },
  {
   "cell_type": "code",
   "execution_count": 4,
   "metadata": {
    "collapsed": false
   },
   "outputs": [
    {
     "name": "stdout",
     "output_type": "stream",
     "text": [
      "['BUTTINIERE', 'FLOIRAC DRAVEMONT']\n",
      "['BUTTINIERE', 'FLOIRAC DRAVEMONT']\n",
      "['SAINT-AUGUSTIN']\n",
      "test numero 3\n",
      "Ligne Tram A interrompue entre M\\xe9rignac Centre et St Augustin.\n",
      "(['SAINT-AUGUSTIN'], ['MERIGNAC CENTRE', 'SAINT-AUGUSTIN'], False)\n",
      "['LA GARDETTE', 'BUTTINIERE']\n",
      "['LA GARDETTE', 'BUTTINIERE']\n",
      "[]\n",
      "['QUATRE CHEMINS']\n",
      "test numero 7\n",
      "Ligne Tram A interrompue entre M\\xe9rignac Centre et Quatre Chemins.\n",
      "(['QUATRE CHEMINS'], ['MERIGNAC CENTRE', 'QUATRE CHEMINS'], False)\n",
      "['QUATRE CHEMINS']\n",
      "test numero 8\n",
      "V\\xe9hicule immobilis\\xe9 sur les voies Ligne Tram A interrompue entre M\\xe9rignac Centre et Quatre Chemins.\n",
      "(['QUATRE CHEMINS'], ['MERIGNAC CENTRE', 'QUATRE CHEMINS'], False)\n",
      "['SAINT-AUGUSTIN', 'GAVINIES']\n",
      "test numero 9\n",
      "Rame en panne \\xe0 Gavini\\xe8s Ligne Tram A interrompue entre St Augustin et M\\xe9riadeck.\n",
      "(['SAINT-AUGUSTIN', 'GAVINIES'], ['GAVINIES', 'SAINT-AUGUSTIN', 'MERIADECK'], False)\n",
      "['STALINGRAD']\n",
      "test numero 10\n",
      "Rame en panne \\xe0 Jardin Botanique Ligne Tram A interrompue entre Galin et Stalingrad.\n",
      "(['STALINGRAD'], ['JARDIN BOTANIQUE', 'GALIN', 'STALINGRAD'], False)\n",
      "['LA GARDETTE', 'BUTTINIERE']\n",
      "test numero 11\n",
      "Malaise voyageur en station Iris Ligne Tram A interrompue entre Buttini\\xe8re et La Gardette.\n",
      "(['LA GARDETTE', 'BUTTINIERE'], ['IRIS', 'BUTTINIERE', 'LA GARDETTE'], False)\n",
      "['BUTTINIERE', 'CARNOT-MAIRIE DE CENON']\n",
      "test numero 12\n",
      "Accident en station Carnot Mairie de Cenon Ligne Tram A interrompue entre Buttini\\xe8re et Galin.\n",
      "(['BUTTINIERE', 'CARNOT-MAIRIE DE CENON'], ['BUTTINIERE', 'GALIN', 'CARNOT-MAIRIE DE CENON'], False)\n",
      "['LA GARDETTE', 'BUTTINIERE']\n",
      "['STALINGRAD', 'SAINTE-CATHERINE']\n",
      "['STALINGRAD']\n",
      "test numero 15\n",
      "Ligne Tram A interrompue entre M\\xe9riadeck et Stalingrad.\n",
      "(['STALINGRAD'], ['MERIADECK', 'STALINGRAD'], False)\n",
      "[]\n",
      "[]\n",
      "['BUTTINIERE']\n",
      "test numero 18\n",
      "Suite \\xe0 un v\\xe9hicule sur les voies de la Ligne Tram A. Ligne interrompue entre Buttini\\xe8re et Galin.\n",
      "(['BUTTINIERE'], ['BUTTINIERE', 'GALIN'], False)\n",
      "['LA GARDETTE', 'BUTTINIERE']\n",
      "['LA GARDETTE', 'BUTTINIERE']\n",
      "['SAINTE-CATHERINE']\n",
      "test numero 21\n",
      "MANIFESTATION : Tram A interrompu entre M\\xe9riadeck et Ste Catherine.\n",
      "(['SAINTE-CATHERINE'], ['MERIADECK', 'SAINTE-CATHERINE'], False)\n",
      "['GAVINIES', 'SAINT-AUGUSTIN']\n",
      "['BUTTINIERE']\n",
      "test numero 23\n",
      "Suite \\xe0 un v\\xe9hicule sur les voies, lA Ligne A est interrompue entre Buttini\\xe8re et Galin.\n",
      "(['BUTTINIERE'], ['BUTTINIERE', 'GALIN'], False)\n",
      "['LA MORLETTE', 'FLOIRAC DRAVEMONT']\n",
      "['SAINTE-CATHERINE']\n",
      "test numero 25\n",
      "Malaise voyageur, ligne Tram A interrompue entre les stations M\\xe9riadeck et Ste Catherine .\n",
      "(['SAINTE-CATHERINE'], ['MERIADECK', 'SAINTE-CATHERINE'], False)\n",
      "['BUTTINIERE', 'FLOIRAC DRAVEMONT']\n",
      "['BUTTINIERE', 'FLOIRAC DRAVEMONT']\n",
      "[]\n",
      "['LA MORLETTE', 'FLOIRAC DRAVEMONT']\n",
      "['LA MORLETTE', 'FLOIRAC DRAVEMONT']\n",
      "['BUTTINIERE']\n",
      "test numero 31\n",
      "Ligne Tram A interrompue entre Buttini\\xe8re et Galin.\n",
      "(['BUTTINIERE'], ['BUTTINIERE', 'GALIN'], False)\n",
      "['PORTE DE BOURGOGNE']\n",
      "test numero 32\n",
      "Jeudi 31 janvier 2013 : Interruption Tram A entre M\\xe9riadeck et Bourgogne d\\xe8s 20h30 (bus en relais).\n",
      "(['PORTE DE BOURGOGNE'], ['MERIADECK', 'PORTE DE BOURGOGNE'], False)\n",
      "[]\n",
      "[]\n",
      "['PORTE DE BOURGOGNE']\n",
      "test numero 35\n",
      "Ce soir d\\xe8s 20h30 : Cause enqu\\xeate, Tram A interrompu entre M\\xe9riadeck et Bourgogne. Relais bus assur\\xe9.\n",
      "(['PORTE DE BOURGOGNE'], ['MERIADECK', 'PORTE DE BOURGOGNE'], False)\n",
      "['LA MORLETTE', 'FLOIRAC DRAVEMONT']\n",
      "['SAINT-NICOLAS']\n",
      "test numero 37\n",
      "Suite \\xe0 une coupure d'alimentation la Ligne B est interrompue entre Saint-Nicolas et Doyen Brus\n",
      "(['SAINT-NICOLAS'], ['SAINT-NICOLAS', 'DOYEN BRUS'], False)\n",
      "['SAINT-NICOLAS']\n",
      "test numero 38\n",
      "En raison d'une rame en panne la Ligne B est interrompue entre Saint-Nicolas et Doyen Brus\n",
      "(['SAINT-NICOLAS'], ['SAINT-NICOLAS', 'DOYEN BRUS'], False)\n",
      "['CLAVEAU']\n",
      "test numero 39\n",
      "Ligne Tram B interrompue entre Claveau et Bassins \\xe0 Flot (incident technique).\n",
      "(['CLAVEAU'], ['CLAVEAU', 'BASSINS A FLOT'], False)\n",
      "['QUINCONCES']\n",
      "test numero 40\n",
      "Rame en panne : Ligne Tram C interrompue entre Quinconces et Grand Parc.\n",
      "(['QUINCONCES'], ['QUINCONCES', 'GRAND PARC'], False)\n",
      "[]\n",
      "test numero 41\n",
      "Tram A: un nouveau malaise voyageur en station 'M\\xe9riadeck' interrompt, de nouveau, le trafic. Attente des pompiers sur place.\n",
      "([], ['MERIADECK'], False)\n",
      "['GAVINIES']\n",
      "test numero 42\n",
      "Manifestation en centre-ville: Tram A interrompu 'M\\xe9riadeck Gavini\\xe8s'. Perturbations r\\xe9seau bus+tram \\xe0 pr\\xe9voir.\n",
      "(['GAVINIES'], ['MERIADECK', 'GAVINIES'], False)\n",
      "['GAVINIES']\n",
      "test numero 43\n",
      "MANIFESTATION: Tram A interrompu entre M\\xe9riadeck et Gavini\\xe8s.\n",
      "(['GAVINIES'], ['MERIADECK', 'GAVINIES'], False)\n",
      "['QUINCONCES']\n",
      "test numero 44\n",
      "Rame en panne, ligne Tram C interrompue entre Quinconces et Gare St Jean. Lignes de bus en relais\n",
      "(['QUINCONCES'], ['QUINCONCES', 'GARE SAINT-JEAN'], False)\n",
      "['GARE SAINT-JEAN']\n",
      "test numero 45\n",
      "Suite \\xe0 une intervention technique, ligne Tram C interrompue entre Gare Saint Jean et Grand Parc.\n",
      "(['GARE SAINT-JEAN'], ['GARE SAINT-JEAN', 'GRAND PARC'], False)\n",
      "['GARE SAINT-JEAN']\n",
      "test numero 46\n",
      "Ligne Tram C interrompue entre Gare Saint Jean et Grand Parc.\n",
      "(['GARE SAINT-JEAN'], ['GARE SAINT-JEAN', 'GRAND PARC'], False)\n",
      "['GARE SAINT-JEAN']\n",
      "test numero 47\n",
      "Coupure d'\\xe9nergie : Ligne Tram C interrompue entre Gare Saint Jean et Grand Parc.\n",
      "(['GARE SAINT-JEAN'], ['GARE SAINT-JEAN', 'GRAND PARC'], False)\n",
      "[]\n",
      "['LES AUBIERS', 'QUINCONCES']\n",
      "['LES AUBIERS', 'TERRES NEUVES']\n",
      "['GARE SAINT-JEAN', 'QUINCONCES']\n",
      "['PORTE DE BOURGOGNE']\n",
      "test numero 52\n",
      "Jeudi 31/01 d\\xe8s 20h30 : Cause Enqu\\xeate, Tram A interrompu entre M\\xe9riadeck et Porte de Bourgogne. Pas de relais bus.\n",
      "(['PORTE DE BOURGOGNE'], ['MERIADECK', 'PORTE DE BOURGOGNE'], False)\n",
      "\n",
      "Fin des Tests\n",
      "\n",
      "Resultats :\n",
      "\n",
      "ARRETS TROUVE : 65 sur 93 soit 0.698924731183\n",
      "Au total, 25 de tweets sont correctemnt extrait sur 52, soit 0.480769230769\n"
     ]
    }
   ],
   "source": [
    "test_extract()"
   ]
  },
  {
   "cell_type": "code",
   "execution_count": null,
   "metadata": {
    "collapsed": false,
    "scrolled": true
   },
   "outputs": [],
   "source": []
  },
  {
   "cell_type": "code",
   "execution_count": null,
   "metadata": {
    "collapsed": false
   },
   "outputs": [],
   "source": []
  },
  {
   "cell_type": "code",
   "execution_count": null,
   "metadata": {
    "collapsed": false,
    "scrolled": true
   },
   "outputs": [],
   "source": []
  },
  {
   "cell_type": "code",
   "execution_count": null,
   "metadata": {
    "collapsed": true
   },
   "outputs": [],
   "source": []
  },
  {
   "cell_type": "code",
   "execution_count": null,
   "metadata": {
    "collapsed": false
   },
   "outputs": [],
   "source": []
  },
  {
   "cell_type": "code",
   "execution_count": null,
   "metadata": {
    "collapsed": false
   },
   "outputs": [],
   "source": []
  },
  {
   "cell_type": "code",
   "execution_count": null,
   "metadata": {
    "collapsed": false,
    "scrolled": true
   },
   "outputs": [],
   "source": []
  },
  {
   "cell_type": "code",
   "execution_count": null,
   "metadata": {
    "collapsed": true
   },
   "outputs": [],
   "source": []
  },
  {
   "cell_type": "code",
   "execution_count": null,
   "metadata": {
    "collapsed": false
   },
   "outputs": [],
   "source": []
  },
  {
   "cell_type": "code",
   "execution_count": null,
   "metadata": {
    "collapsed": true
   },
   "outputs": [],
   "source": []
  },
  {
   "cell_type": "code",
   "execution_count": null,
   "metadata": {
    "collapsed": true
   },
   "outputs": [],
   "source": []
  },
  {
   "cell_type": "code",
   "execution_count": null,
   "metadata": {
    "collapsed": true
   },
   "outputs": [],
   "source": []
  },
  {
   "cell_type": "code",
   "execution_count": null,
   "metadata": {
    "collapsed": true
   },
   "outputs": [],
   "source": []
  },
  {
   "cell_type": "code",
   "execution_count": null,
   "metadata": {
    "collapsed": false
   },
   "outputs": [],
   "source": []
  },
  {
   "cell_type": "code",
   "execution_count": null,
   "metadata": {
    "collapsed": true
   },
   "outputs": [],
   "source": []
  },
  {
   "cell_type": "code",
   "execution_count": null,
   "metadata": {
    "collapsed": true
   },
   "outputs": [],
   "source": []
  },
  {
   "cell_type": "code",
   "execution_count": null,
   "metadata": {
    "collapsed": false
   },
   "outputs": [],
   "source": []
  },
  {
   "cell_type": "code",
   "execution_count": null,
   "metadata": {
    "collapsed": false,
    "scrolled": true
   },
   "outputs": [],
   "source": []
  },
  {
   "cell_type": "code",
   "execution_count": null,
   "metadata": {
    "collapsed": true
   },
   "outputs": [],
   "source": []
  },
  {
   "cell_type": "code",
   "execution_count": null,
   "metadata": {
    "collapsed": true
   },
   "outputs": [],
   "source": []
  },
  {
   "cell_type": "code",
   "execution_count": null,
   "metadata": {
    "collapsed": true
   },
   "outputs": [],
   "source": []
  },
  {
   "cell_type": "code",
   "execution_count": null,
   "metadata": {
    "collapsed": false
   },
   "outputs": [],
   "source": []
  },
  {
   "cell_type": "code",
   "execution_count": null,
   "metadata": {
    "collapsed": true
   },
   "outputs": [],
   "source": []
  },
  {
   "cell_type": "code",
   "execution_count": null,
   "metadata": {
    "collapsed": true
   },
   "outputs": [],
   "source": []
  },
  {
   "cell_type": "code",
   "execution_count": null,
   "metadata": {
    "collapsed": false,
    "scrolled": true
   },
   "outputs": [],
   "source": []
  },
  {
   "cell_type": "code",
   "execution_count": null,
   "metadata": {
    "collapsed": true
   },
   "outputs": [],
   "source": []
  },
  {
   "cell_type": "code",
   "execution_count": null,
   "metadata": {
    "collapsed": false
   },
   "outputs": [],
   "source": []
  },
  {
   "cell_type": "code",
   "execution_count": null,
   "metadata": {
    "collapsed": true
   },
   "outputs": [],
   "source": []
  },
  {
   "cell_type": "code",
   "execution_count": null,
   "metadata": {
    "collapsed": false
   },
   "outputs": [],
   "source": []
  },
  {
   "cell_type": "code",
   "execution_count": null,
   "metadata": {
    "collapsed": false
   },
   "outputs": [],
   "source": []
  },
  {
   "cell_type": "code",
   "execution_count": null,
   "metadata": {
    "collapsed": false
   },
   "outputs": [],
   "source": []
  },
  {
   "cell_type": "code",
   "execution_count": null,
   "metadata": {
    "collapsed": false
   },
   "outputs": [],
   "source": []
  },
  {
   "cell_type": "code",
   "execution_count": null,
   "metadata": {
    "collapsed": false
   },
   "outputs": [],
   "source": []
  },
  {
   "cell_type": "code",
   "execution_count": null,
   "metadata": {
    "collapsed": false
   },
   "outputs": [],
   "source": []
  },
  {
   "cell_type": "code",
   "execution_count": null,
   "metadata": {
    "collapsed": false
   },
   "outputs": [],
   "source": []
  },
  {
   "cell_type": "code",
   "execution_count": null,
   "metadata": {
    "collapsed": true
   },
   "outputs": [],
   "source": []
  },
  {
   "cell_type": "code",
   "execution_count": null,
   "metadata": {
    "collapsed": true
   },
   "outputs": [],
   "source": []
  },
  {
   "cell_type": "code",
   "execution_count": null,
   "metadata": {
    "collapsed": true
   },
   "outputs": [],
   "source": []
  },
  {
   "cell_type": "code",
   "execution_count": null,
   "metadata": {
    "collapsed": true
   },
   "outputs": [],
   "source": []
  },
  {
   "cell_type": "code",
   "execution_count": null,
   "metadata": {
    "collapsed": false,
    "scrolled": true
   },
   "outputs": [],
   "source": []
  },
  {
   "cell_type": "code",
   "execution_count": null,
   "metadata": {
    "collapsed": false
   },
   "outputs": [],
   "source": []
  },
  {
   "cell_type": "code",
   "execution_count": null,
   "metadata": {
    "collapsed": true
   },
   "outputs": [],
   "source": []
  },
  {
   "cell_type": "code",
   "execution_count": null,
   "metadata": {
    "collapsed": true
   },
   "outputs": [],
   "source": []
  }
 ],
 "metadata": {
  "kernelspec": {
   "display_name": "Python 2",
   "language": "python",
   "name": "python2"
  },
  "language_info": {
   "codemirror_mode": {
    "name": "ipython",
    "version": 2
   },
   "file_extension": ".py",
   "mimetype": "text/x-python",
   "name": "python",
   "nbconvert_exporter": "python",
   "pygments_lexer": "ipython2",
   "version": "2.7.11"
  }
 },
 "nbformat": 4,
 "nbformat_minor": 0
}
